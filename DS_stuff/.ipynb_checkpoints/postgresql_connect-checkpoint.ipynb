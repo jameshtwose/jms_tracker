{
 "cells": [
  {
   "cell_type": "markdown",
   "metadata": {},
   "source": [
    "## Connecting to postgreSQL"
   ]
  },
  {
   "cell_type": "code",
   "execution_count": 14,
   "metadata": {},
   "outputs": [],
   "source": [
    "import os\n",
    "tmp = os.getcwd()\n",
    "os.chdir(tmp.split(\"Coding\")[0] + \"Coding\")"
   ]
  },
  {
   "cell_type": "code",
   "execution_count": 15,
   "metadata": {},
   "outputs": [],
   "source": [
    "from dotenv import load_dotenv"
   ]
  },
  {
   "cell_type": "code",
   "execution_count": 16,
   "metadata": {},
   "outputs": [
    {
     "data": {
      "text/plain": [
       "True"
      ]
     },
     "execution_count": 16,
     "metadata": {},
     "output_type": "execute_result"
    }
   ],
   "source": [
    "load_dotenv(\".env\")"
   ]
  },
  {
   "cell_type": "code",
   "execution_count": 18,
   "metadata": {},
   "outputs": [],
   "source": [
    "import psycopg2\n",
    "import pandas as pd\n",
    "import sqlite3\n",
    "from sqlalchemy import create_engine\n",
    "import sqlalchemy"
   ]
  },
  {
   "cell_type": "code",
   "execution_count": 5,
   "metadata": {},
   "outputs": [],
   "source": [
    "tmp = os.getcwd()\n",
    "os.chdir(tmp.split(\"Coding\")[0] + \"Coding/jmspack\")\n",
    "from jmspack.internal_utils import (postgresql_data_extraction,\n",
    "                                    postgresql_table_names_list)"
   ]
  },
  {
   "cell_type": "code",
   "execution_count": 6,
   "metadata": {},
   "outputs": [],
   "source": [
    "# def postgresql_data_extraction(sql_query: str=\"SELECT * from suggested_energy_intake\"):\n",
    "#     df = pd.DataFrame()\n",
    "#     try:\n",
    "#         conn = psycopg2.connect(host=os.getenv(\"postgresql_host\"),\n",
    "#                                 database=\"tracker\",\n",
    "#                                 user=\"tracker\",\n",
    "#                                 password=os.getenv(\"postgresql_password\"))\n",
    "#         df = pd.read_sql_query(sql_query, conn)\n",
    "#         _ = conn.close()\n",
    "#     except:\n",
    "#         print(\"I am unable to connect to the database\")\n",
    "    \n",
    "#     return df"
   ]
  },
  {
   "cell_type": "code",
   "execution_count": 7,
   "metadata": {},
   "outputs": [
    {
     "data": {
      "text/plain": [
       "[('django_session',),\n",
       " ('suggested_energy_intake',),\n",
       " ('django_migrations',),\n",
       " ('django_content_type',),\n",
       " ('auth_permission',),\n",
       " ('auth_group',),\n",
       " ('auth_group_permissions',),\n",
       " ('auth_user_groups',),\n",
       " ('auth_user_user_permissions',),\n",
       " ('auth_user',),\n",
       " ('django_admin_log',)]"
      ]
     },
     "execution_count": 7,
     "metadata": {},
     "output_type": "execute_result"
    }
   ],
   "source": [
    "postgresql_table_names_list()"
   ]
  },
  {
   "cell_type": "code",
   "execution_count": 8,
   "metadata": {},
   "outputs": [],
   "source": [
    "df = postgresql_data_extraction()"
   ]
  },
  {
   "cell_type": "code",
   "execution_count": 9,
   "metadata": {},
   "outputs": [],
   "source": [
    "# def aws_data_extraction(filepath: str, bucket=\"neurocast-vm-shared\", **kwargs):\n",
    "#     s3 = boto3.client(\n",
    "#             \"s3\",\n",
    "#             aws_access_key_id=os.getenv(\"AWS_KEY\"),\n",
    "#             aws_secret_access_key=os.getenv(\"AWS_SECRET_KEY\"),\n",
    "#         )\n",
    "#     obj = s3.get_object(Bucket=bucket, Key=filepath)\n",
    "\n",
    "#     return pd.read_csv(obj[\"Body\"], **kwargs)"
   ]
  },
  {
   "cell_type": "markdown",
   "metadata": {},
   "source": [
    "### Making the initial connection to the database"
   ]
  },
  {
   "cell_type": "code",
   "execution_count": 20,
   "metadata": {},
   "outputs": [],
   "source": [
    "try:\n",
    "    conn = psycopg2.connect(host=\"188.166.98.139\",\n",
    "                            database=\"tracker\",\n",
    "                            user=\"tracker\",\n",
    "                            password=\"HAA5oJGgylRToGIrpEKc\")\n",
    "except:\n",
    "    print(\"I am unable to connect to the database\") "
   ]
  },
  {
   "cell_type": "code",
   "execution_count": 11,
   "metadata": {},
   "outputs": [
    {
     "name": "stdout",
     "output_type": "stream",
     "text": [
      "[('django_session',), ('suggested_energy_intake',), ('django_migrations',), ('django_content_type',), ('auth_permission',), ('auth_group',), ('auth_group_permissions',), ('auth_user_groups',), ('auth_user_user_permissions',), ('auth_user',), ('django_admin_log',)]\n"
     ]
    },
    {
     "data": {
      "text/plain": [
       "[]"
      ]
     },
     "execution_count": 11,
     "metadata": {},
     "output_type": "execute_result"
    }
   ],
   "source": [
    "cursor = conn.cursor()\n",
    "cursor.execute(\"select relname from pg_class where relkind='r' and relname !~ '^(pg_|sql_)';\")\n",
    "print(cursor.fetchall())\n",
    "table_list = cursor.fetchall()\n",
    "list(cursor.fetchall())"
   ]
  },
  {
   "cell_type": "code",
   "execution_count": 12,
   "metadata": {},
   "outputs": [],
   "source": [
    "def postgresql_table_names_list(postgresql_conn: psycopg2.connect):\n",
    "    table_list = False\n",
    "    try:\n",
    "        cursor = postgresql_conn.cursor()\n",
    "        cursor.execute(\"select relname from pg_class where relkind='r' and relname !~ '^(pg_|sql_)';\")\n",
    "        table_list = cursor.fetchall()\n",
    "#         print(exists)\n",
    "        cursor.close()\n",
    "    except psycopg2.Error as e:\n",
    "        print(e)\n",
    "    return table_list"
   ]
  },
  {
   "cell_type": "code",
   "execution_count": 13,
   "metadata": {},
   "outputs": [],
   "source": [
    "temp = postgresql_table_names_list(postgresql_conn=conn)"
   ]
  },
  {
   "cell_type": "code",
   "execution_count": 14,
   "metadata": {},
   "outputs": [
    {
     "data": {
      "text/plain": [
       "[('django_session',),\n",
       " ('suggested_energy_intake',),\n",
       " ('django_migrations',),\n",
       " ('django_content_type',),\n",
       " ('auth_permission',),\n",
       " ('auth_group',),\n",
       " ('auth_group_permissions',),\n",
       " ('auth_user_groups',),\n",
       " ('auth_user_user_permissions',),\n",
       " ('auth_user',),\n",
       " ('django_admin_log',)]"
      ]
     },
     "execution_count": 14,
     "metadata": {},
     "output_type": "execute_result"
    }
   ],
   "source": [
    "temp"
   ]
  },
  {
   "cell_type": "markdown",
   "metadata": {},
   "source": [
    "### Read in data from suggested_energy_intake table from postgreSQL database"
   ]
  },
  {
   "cell_type": "code",
   "execution_count": 15,
   "metadata": {},
   "outputs": [
    {
     "data": {
      "text/html": [
       "<div>\n",
       "<style scoped>\n",
       "    .dataframe tbody tr th:only-of-type {\n",
       "        vertical-align: middle;\n",
       "    }\n",
       "\n",
       "    .dataframe tbody tr th {\n",
       "        vertical-align: top;\n",
       "    }\n",
       "\n",
       "    .dataframe thead th {\n",
       "        text-align: right;\n",
       "    }\n",
       "</style>\n",
       "<table border=\"1\" class=\"dataframe\">\n",
       "  <thead>\n",
       "    <tr style=\"text-align: right;\">\n",
       "      <th></th>\n",
       "      <th>nutrient</th>\n",
       "      <th>daily_requirements</th>\n",
       "      <th>units</th>\n",
       "    </tr>\n",
       "  </thead>\n",
       "  <tbody>\n",
       "    <tr>\n",
       "      <th>0</th>\n",
       "      <td>Calorie</td>\n",
       "      <td>1500.0</td>\n",
       "      <td>kcal</td>\n",
       "    </tr>\n",
       "  </tbody>\n",
       "</table>\n",
       "</div>"
      ],
      "text/plain": [
       "  nutrient  daily_requirements units\n",
       "0  Calorie              1500.0  kcal"
      ]
     },
     "metadata": {},
     "output_type": "display_data"
    }
   ],
   "source": [
    "df = pd.read_sql_query(\"SELECT * from suggested_energy_intake\", conn)\n",
    "\n",
    "# Verify that result of SQL query is stored in the dataframe\n",
    "display(df.head(1))\n",
    "\n",
    "conn.close()"
   ]
  },
  {
   "cell_type": "code",
   "execution_count": 10,
   "metadata": {},
   "outputs": [
    {
     "data": {
      "text/html": [
       "<div>\n",
       "<style scoped>\n",
       "    .dataframe tbody tr th:only-of-type {\n",
       "        vertical-align: middle;\n",
       "    }\n",
       "\n",
       "    .dataframe tbody tr th {\n",
       "        vertical-align: top;\n",
       "    }\n",
       "\n",
       "    .dataframe thead th {\n",
       "        text-align: right;\n",
       "    }\n",
       "</style>\n",
       "<table border=\"1\" class=\"dataframe\">\n",
       "  <thead>\n",
       "    <tr style=\"text-align: right;\">\n",
       "      <th></th>\n",
       "      <th>nutrient</th>\n",
       "      <th>daily_requirements</th>\n",
       "      <th>units</th>\n",
       "    </tr>\n",
       "  </thead>\n",
       "  <tbody>\n",
       "    <tr>\n",
       "      <th>0</th>\n",
       "      <td>Calorie</td>\n",
       "      <td>1500.0</td>\n",
       "      <td>kcal</td>\n",
       "    </tr>\n",
       "    <tr>\n",
       "      <th>1</th>\n",
       "      <td>Total fat</td>\n",
       "      <td>70.0</td>\n",
       "      <td>g</td>\n",
       "    </tr>\n",
       "    <tr>\n",
       "      <th>2</th>\n",
       "      <td>Saturated fat</td>\n",
       "      <td>20.0</td>\n",
       "      <td>g</td>\n",
       "    </tr>\n",
       "    <tr>\n",
       "      <th>3</th>\n",
       "      <td>Carbohydrate</td>\n",
       "      <td>260.0</td>\n",
       "      <td>g</td>\n",
       "    </tr>\n",
       "    <tr>\n",
       "      <th>4</th>\n",
       "      <td>Total sugars</td>\n",
       "      <td>90.0</td>\n",
       "      <td>g</td>\n",
       "    </tr>\n",
       "  </tbody>\n",
       "</table>\n",
       "</div>"
      ],
      "text/plain": [
       "        nutrient  daily_requirements units\n",
       "0        Calorie              1500.0  kcal\n",
       "1      Total fat                70.0     g\n",
       "2  Saturated fat                20.0     g\n",
       "3   Carbohydrate               260.0     g\n",
       "4   Total sugars                90.0     g"
      ]
     },
     "execution_count": 10,
     "metadata": {},
     "output_type": "execute_result"
    }
   ],
   "source": [
    "df.head()"
   ]
  },
  {
   "cell_type": "code",
   "execution_count": 33,
   "metadata": {},
   "outputs": [],
   "source": [
    "conn.close()"
   ]
  },
  {
   "cell_type": "code",
   "execution_count": 34,
   "metadata": {},
   "outputs": [
    {
     "data": {
      "text/plain": [
       "<connection object at 0x7fa1ba25f040; dsn: 'user=tracker password=xxx dbname=tracker host=188.166.98.139', closed: 1>"
      ]
     },
     "execution_count": 34,
     "metadata": {},
     "output_type": "execute_result"
    }
   ],
   "source": [
    "conn"
   ]
  },
  {
   "cell_type": "code",
   "execution_count": 69,
   "metadata": {},
   "outputs": [],
   "source": [
    "df_dtypes_dict = df.dtypes.to_dict()"
   ]
  },
  {
   "cell_type": "code",
   "execution_count": 70,
   "metadata": {},
   "outputs": [],
   "source": [
    "python_to_sql_dtypes_dict = {\"object\":\"text\",\n",
    "\"float64\":\"float\",\n",
    "\"float32\": \"float\",\n",
    "\"int8\": \"int\",\n",
    "\"int32\": \"int\", \n",
    " \"int64\": \"int\",\n",
    "\"datetime64[ns]\": \"timestamp\"}"
   ]
  },
  {
   "cell_type": "code",
   "execution_count": 71,
   "metadata": {},
   "outputs": [],
   "source": [
    "columns_dtypes_list = [f\"{column} {python_to_sql_dtypes_dict[str(df_dtypes_dict[column])]}\" for column in df.columns.tolist()]"
   ]
  },
  {
   "cell_type": "code",
   "execution_count": 72,
   "metadata": {},
   "outputs": [
    {
     "name": "stdout",
     "output_type": "stream",
     "text": [
      "CREATE TABLE suggested_energy_intake (\n",
      "            nutrient text,\n",
      "daily_requirements float,\n",
      "units text\n",
      ")\n"
     ]
    }
   ],
   "source": [
    "table_name = \"suggested_energy_intake\"\n",
    "columns_dtypes_str = ',\\n'.join(columns_dtypes_list)\n",
    "print(f\"\"\"CREATE TABLE {table_name} (\n",
    "            {columns_dtypes_str}\n",
    ")\"\"\")"
   ]
  },
  {
   "cell_type": "code",
   "execution_count": 86,
   "metadata": {},
   "outputs": [],
   "source": [
    "def create_table_based_on_df(df: pd.DataFrame,\n",
    "                             database_name: str,\n",
    "                             user: str,\n",
    "                            table_name: str,\n",
    "                            ):\n",
    "    python_to_sql_dtypes_dict = {\"object\":\"text\",\n",
    "                                \"float64\":\"float\",\n",
    "                                \"float32\": \"float\",\n",
    "                                \"int8\": \"int\",\n",
    "                                \"int32\": \"int\", \n",
    "                                 \"int64\": \"int\",\n",
    "                                \"datetime64[ns]\": \"timestamp\"}\n",
    "    df_dtypes_dict = df.dtypes.to_dict()\n",
    "    columns_dtypes_list = [f\"{column} {python_to_sql_dtypes_dict[str(df_dtypes_dict[column])]}\" for column in df.columns.tolist()]\n",
    "    columns_dtypes_str = ',\\n'.join(columns_dtypes_list)\n",
    "    table_string = f\"\"\"CREATE TABLE {table_name} (\n",
    "                {columns_dtypes_str}\n",
    "    )\"\"\"\n",
    "    \n",
    "    try:\n",
    "        conn = psycopg2.connect(\n",
    "            host=os.getenv(\"postgresql_host\"),\n",
    "            database=database_name,\n",
    "            user=user,\n",
    "            password=os.getenv(\"postgresql_password\"),\n",
    "        )\n",
    "        cursor = conn.cursor()\n",
    "        _ = cursor.execute(table_string)\n",
    "        _ = conn.commit()\n",
    "        _ = conn.close()\n",
    "    except psycopg2.Error as e:\n",
    "        print(e)\n",
    "    \n",
    "    return table_string"
   ]
  },
  {
   "cell_type": "code",
   "execution_count": 81,
   "metadata": {},
   "outputs": [],
   "source": [
    "import seaborn as sns"
   ]
  },
  {
   "cell_type": "code",
   "execution_count": 83,
   "metadata": {},
   "outputs": [],
   "source": [
    "df = sns.load_dataset(\"iris\")"
   ]
  },
  {
   "cell_type": "code",
   "execution_count": 88,
   "metadata": {},
   "outputs": [],
   "source": [
    "# create_table_based_on_df(df=df,\n",
    "#                          database_name=\"tracker\",\n",
    "#                              user=\"tracker\",\n",
    "#                             table_name=\"iris_test\",\n",
    "#                             )"
   ]
  },
  {
   "cell_type": "code",
   "execution_count": 91,
   "metadata": {},
   "outputs": [
    {
     "data": {
      "text/html": [
       "<div>\n",
       "<style scoped>\n",
       "    .dataframe tbody tr th:only-of-type {\n",
       "        vertical-align: middle;\n",
       "    }\n",
       "\n",
       "    .dataframe tbody tr th {\n",
       "        vertical-align: top;\n",
       "    }\n",
       "\n",
       "    .dataframe thead th {\n",
       "        text-align: right;\n",
       "    }\n",
       "</style>\n",
       "<table border=\"1\" class=\"dataframe\">\n",
       "  <thead>\n",
       "    <tr style=\"text-align: right;\">\n",
       "      <th></th>\n",
       "      <th>sepal_length</th>\n",
       "      <th>sepal_width</th>\n",
       "      <th>petal_length</th>\n",
       "      <th>petal_width</th>\n",
       "      <th>species</th>\n",
       "    </tr>\n",
       "  </thead>\n",
       "  <tbody>\n",
       "    <tr>\n",
       "      <th>0</th>\n",
       "      <td>5.1</td>\n",
       "      <td>3.5</td>\n",
       "      <td>1.4</td>\n",
       "      <td>0.2</td>\n",
       "      <td>setosa</td>\n",
       "    </tr>\n",
       "  </tbody>\n",
       "</table>\n",
       "</div>"
      ],
      "text/plain": [
       "   sepal_length  sepal_width  petal_length  petal_width species\n",
       "0           5.1          3.5           1.4          0.2  setosa"
      ]
     },
     "execution_count": 91,
     "metadata": {},
     "output_type": "execute_result"
    }
   ],
   "source": [
    "df.head(1)"
   ]
  },
  {
   "cell_type": "code",
   "execution_count": 103,
   "metadata": {},
   "outputs": [],
   "source": [
    "# for oid in range(0, df.shape[0]):\n",
    "#     for col_number in range(0, df.shape[1]):\n",
    "#         print(df.loc[oid, df.columns[col_number]])"
   ]
  },
  {
   "cell_type": "code",
   "execution_count": 121,
   "metadata": {},
   "outputs": [],
   "source": [
    "for oid in range(0, df.shape[0]):\n",
    "    value_tuple = tuple(df.loc[oid, df.columns[col_number]] for col_number in range(0, df.shape[1]))\n",
    "#     print(value_tuple)"
   ]
  },
  {
   "cell_type": "code",
   "execution_count": null,
   "metadata": {},
   "outputs": [],
   "source": [
    "def add_data_to_sql_table(df: pd.DataFrame,\n",
    "                             database_name: str,\n",
    "                             user: str,\n",
    "                            table_name: str,\n",
    "                            ):\n",
    "    \n",
    "    columns_string = ', '.join(df.columns.tolist())\n",
    "    value_placeholder_string = \", \".join([\"%s\" for x in range(0, df.shape[1])])\n",
    "    insert_string = f\"\"\"INSERT INTO {table_name} ({columns_string}) VALUES ({value_placeholder_string})\"\"\", \n",
    "    try:\n",
    "        conn = psycopg2.connect(\n",
    "            host=os.getenv(\"postgresql_host\"),\n",
    "            database=database_name,\n",
    "            user=user,\n",
    "            password=os.getenv(\"postgresql_password\"),\n",
    "        )\n",
    "        cursor = conn.cursor()\n",
    "        for oid in range(0, df.shape[0]):\n",
    "            value_tuple = tuple(df.loc[oid, df.columns[col_number]] for col_number in range(0, df.shape[1]))\n",
    "            _ = cursor.execute(insert_string, )\n",
    "        \n",
    "        _ = conn.commit()\n",
    "        _ = conn.close()\n",
    "    except psycopg2.Error as e:\n",
    "        print(e)\n",
    "    \n",
    "    return table_string"
   ]
  },
  {
   "cell_type": "code",
   "execution_count": 118,
   "metadata": {},
   "outputs": [],
   "source": [
    "columns_string = ', '.join(df.columns.tolist())\n",
    "value_placeholder_string = \", \".join([\"%s\" for x in range(0, df.shape[1])])"
   ]
  },
  {
   "cell_type": "code",
   "execution_count": 120,
   "metadata": {},
   "outputs": [],
   "source": [
    "insert_string = f\"\"\"INSERT INTO {table_name} ({columns_string}) VALUES ({value_placeholder_string})\"\"\", "
   ]
  },
  {
   "cell_type": "code",
   "execution_count": null,
   "metadata": {},
   "outputs": [],
   "source": [
    "c = conn.cursor()\n",
    "try: \n",
    "    for oid in range(0, df.shape[0]):\n",
    "#         print(oid)\n",
    "        c.execute(\"\"\"INSERT INTO suggested_energy_intake (nutrient, daily_requirements, units) VALUES (%s, %s, %s)\"\"\", \n",
    "        (df.loc[oid, \"Nutrient\"], df.loc[oid, \"Daily requirements\"], df.loc[oid, \"Units\"]))\n",
    "except:\n",
    "    print(\"Unable to upload data to table\")\n",
    "conn.commit() # <--- makes sure the change is shown in the database\n",
    "conn.close()\n",
    "c.close()"
   ]
  },
  {
   "cell_type": "markdown",
   "metadata": {},
   "source": [
    "### Creating a new table in the database"
   ]
  },
  {
   "cell_type": "code",
   "execution_count": 17,
   "metadata": {},
   "outputs": [],
   "source": [
    "# c = conn.cursor()\n",
    "# try:\n",
    "#     # Create table\n",
    "#     c.execute(\"\"\"CREATE TABLE suggested_energy_intake (\n",
    "#             nutrient text,\n",
    "#             daily_requirements decimal,\n",
    "#             units text\n",
    "#             )\"\"\")\n",
    "# #     cur.execute(\"CREATE TABLE test (id serial PRIMARY KEY, num integer, data varchar);\")\n",
    "# except:\n",
    "#     print(\"I can't drop our test database!\")\n",
    "\n",
    "# conn.commit() # <--- makes sure the change is shown in the database\n",
    "# conn.close()\n",
    "# c.close()"
   ]
  },
  {
   "cell_type": "markdown",
   "metadata": {},
   "source": [
    "### Uploading data to an already created table"
   ]
  },
  {
   "cell_type": "code",
   "execution_count": 18,
   "metadata": {},
   "outputs": [],
   "source": [
    "# c = conn.cursor()\n",
    "# try: \n",
    "#     for oid in range(0, df.shape[0]):\n",
    "# #         print(oid)\n",
    "#         c.execute(\"\"\"INSERT INTO suggested_energy_intake (nutrient, daily_requirements, units) VALUES (%s, %s, %s)\"\"\", \n",
    "#         (df.loc[oid, \"Nutrient\"], df.loc[oid, \"Daily requirements\"], df.loc[oid, \"Units\"]))\n",
    "# except:\n",
    "#     print(\"Unable to upload data to table\")\n",
    "# conn.commit() # <--- makes sure the change is shown in the database\n",
    "# conn.close()\n",
    "# c.close()"
   ]
  },
  {
   "cell_type": "code",
   "execution_count": 19,
   "metadata": {},
   "outputs": [
    {
     "ename": "SyntaxError",
     "evalue": "invalid syntax (<ipython-input-19-8c726f94684c>, line 1)",
     "output_type": "error",
     "traceback": [
      "\u001b[0;36m  File \u001b[0;32m\"<ipython-input-19-8c726f94684c>\"\u001b[0;36m, line \u001b[0;32m1\u001b[0m\n\u001b[0;31m    stop!\u001b[0m\n\u001b[0m        ^\u001b[0m\n\u001b[0;31mSyntaxError\u001b[0m\u001b[0;31m:\u001b[0m invalid syntax\n"
     ]
    }
   ],
   "source": [
    "stop!"
   ]
  },
  {
   "cell_type": "markdown",
   "metadata": {},
   "source": [
    "### Local SQLite database connection - read in data"
   ]
  },
  {
   "cell_type": "code",
   "execution_count": null,
   "metadata": {},
   "outputs": [],
   "source": [
    "con = sqlite3.connect(\"energy_tracker.db\")\n",
    "df = pd.read_sql_query(\"SELECT * from suggested_energy_intake\", con)\n",
    "\n",
    "# Verify that result of SQL query is stored in the dataframe\n",
    "display(df.head(1))\n",
    "\n",
    "con.close()"
   ]
  },
  {
   "cell_type": "code",
   "execution_count": null,
   "metadata": {},
   "outputs": [],
   "source": [
    "df.columns.tolist()"
   ]
  }
 ],
 "metadata": {
  "kernelspec": {
   "display_name": "general",
   "language": "python",
   "name": "general"
  },
  "language_info": {
   "codemirror_mode": {
    "name": "ipython",
    "version": 3
   },
   "file_extension": ".py",
   "mimetype": "text/x-python",
   "name": "python",
   "nbconvert_exporter": "python",
   "pygments_lexer": "ipython3",
   "version": "3.9.2"
  }
 },
 "nbformat": 4,
 "nbformat_minor": 4
}
