{
 "cells": [
  {
   "cell_type": "markdown",
   "metadata": {},
   "source": [
    "## Nutritional information from openfoodfacts"
   ]
  },
  {
   "cell_type": "code",
   "execution_count": 3,
   "metadata": {},
   "outputs": [],
   "source": [
    "import requests, six\n",
    "import lxml.html as lh\n",
    "from itertools import cycle, islice\n",
    "from matplotlib import colors\n",
    "import pandas as pd\n",
    "import numpy as np\n",
    "import matplotlib.pyplot as plt\n",
    "import seaborn as sns\n",
    "import sqlite3\n",
    "%matplotlib inline\n",
    "import openfoodfacts"
   ]
  },
  {
   "cell_type": "code",
   "execution_count": 4,
   "metadata": {},
   "outputs": [],
   "source": [
    "pd.set_option('display.max_columns', None)\n",
    "pd.set_option('display.max_rows', None)"
   ]
  },
  {
   "cell_type": "code",
   "execution_count": 5,
   "metadata": {},
   "outputs": [
    {
     "data": {
      "text/html": [
       "<div>\n",
       "<style scoped>\n",
       "    .dataframe tbody tr th:only-of-type {\n",
       "        vertical-align: middle;\n",
       "    }\n",
       "\n",
       "    .dataframe tbody tr th {\n",
       "        vertical-align: top;\n",
       "    }\n",
       "\n",
       "    .dataframe thead th {\n",
       "        text-align: right;\n",
       "    }\n",
       "</style>\n",
       "<table border=\"1\" class=\"dataframe\">\n",
       "  <thead>\n",
       "    <tr style=\"text-align: right;\">\n",
       "      <th></th>\n",
       "      <th>Nutrient</th>\n",
       "      <th>Daily requirements</th>\n",
       "      <th>Units</th>\n",
       "    </tr>\n",
       "  </thead>\n",
       "  <tbody>\n",
       "    <tr>\n",
       "      <th>0</th>\n",
       "      <td>Calorie</td>\n",
       "      <td>1500.0</td>\n",
       "      <td>kcal</td>\n",
       "    </tr>\n",
       "  </tbody>\n",
       "</table>\n",
       "</div>"
      ],
      "text/plain": [
       "  Nutrient  Daily requirements Units\n",
       "0  Calorie              1500.0  kcal"
      ]
     },
     "metadata": {},
     "output_type": "display_data"
    }
   ],
   "source": [
    "# Read sqlite query results into a pandas DataFrame\n",
    "con = sqlite3.connect(\"energy_tracker.db\")\n",
    "sugg_df = pd.read_sql_query(\"SELECT * from suggested_energy_intake\", con)\n",
    "\n",
    "# Verify that result of SQL query is stored in the dataframe\n",
    "display(sugg_df.head(1))\n",
    "\n",
    "sugg_df[\"Daily requirements\"]=sugg_df[\"Daily requirements\"].astype(float)\n",
    "_ = sugg_df.rename({\"Daily requirements\": \"amount\"}, inplace=True, axis=1)\n",
    "\n",
    "con.close()"
   ]
  },
  {
   "cell_type": "code",
   "execution_count": 6,
   "metadata": {},
   "outputs": [],
   "source": [
    "barcodes = pd.read_csv(\"Scan session.csv\", header=None).T.to_numpy().tolist()[0]\n",
    "np.savetxt(\"food_barcodes.csv\", barcodes + [5411188512271, 8718403014549], delimiter=\",\", fmt='%s')\n",
    "barcodes = pd.read_csv(\"food_barcodes.csv\", header=None).T.to_numpy().tolist()[0]"
   ]
  },
  {
   "cell_type": "code",
   "execution_count": 7,
   "metadata": {},
   "outputs": [
    {
     "data": {
      "text/plain": [
       "array([8714779001053, 8718452427512, 8711852200181, 5411188111252,\n",
       "       7394376616419, 8718452265732, 8718452459698, 5202390019319,\n",
       "       8714779003187, 8718452451043, 8719324157025, 8710624281052,\n",
       "       8710624280499, 8710624280437, 5060072970019, 8711299021738,\n",
       "       8711299021776, 8711299021721, 8711299021714,      50818853,\n",
       "       8718452334827, 8718452261697, 8713965500189, 8718452375783,\n",
       "       8710398517388, 8690661080330, 8719153025236, 8718452396535,\n",
       "       8718452469352, 8719189108200, 8715700131207, 8718452469352,\n",
       "       8718452375783, 8713965500189, 8690661080330, 8718452459698,\n",
       "       8718452459698, 5411188111078, 8719153025236, 8710398517388,\n",
       "       8718692781863, 8710861912900, 5411188512271, 8718403014549])"
      ]
     },
     "execution_count": 7,
     "metadata": {},
     "output_type": "execute_result"
    }
   ],
   "source": [
    "np.array(barcodes)"
   ]
  },
  {
   "cell_type": "code",
   "execution_count": 8,
   "metadata": {},
   "outputs": [
    {
     "name": "stdout",
     "output_type": "stream",
     "text": [
      "Barcode == 8718452396535 not available in the database\n",
      "Barcode == 8719189108200 not available in the database\n"
     ]
    }
   ],
   "source": [
    "all_foods_df = pd.DataFrame()\n",
    "failed_barcodes = list()\n",
    "for barcode_int in barcodes:\n",
    "    barcode=str(barcode_int)\n",
    "    try:\n",
    "        search_result = openfoodfacts.products.get_product(barcode)\n",
    "        food_df = pd.concat([pd.DataFrame({\"product_name\":search_result[\"product\"][\"product_name\"],\n",
    "                                          \"barcode\":barcode}, index=[0]), \n",
    "                         pd.DataFrame(search_result[\"product\"][\"nutriments\"], index=[0])], axis=1)\n",
    "        all_foods_df = pd.concat([all_foods_df, food_df])\n",
    "    except:\n",
    "        print(f\"Barcode == {barcode} not available in the database\")\n",
    "        failed_barcodes.append(barcode_int)\n",
    "_ = all_foods_df.reset_index(inplace=True, drop=True)"
   ]
  },
  {
   "cell_type": "code",
   "execution_count": 9,
   "metadata": {},
   "outputs": [
    {
     "data": {
      "text/html": [
       "<div>\n",
       "<style scoped>\n",
       "    .dataframe tbody tr th:only-of-type {\n",
       "        vertical-align: middle;\n",
       "    }\n",
       "\n",
       "    .dataframe tbody tr th {\n",
       "        vertical-align: top;\n",
       "    }\n",
       "\n",
       "    .dataframe thead th {\n",
       "        text-align: right;\n",
       "    }\n",
       "</style>\n",
       "<table border=\"1\" class=\"dataframe\">\n",
       "  <thead>\n",
       "    <tr style=\"text-align: right;\">\n",
       "      <th></th>\n",
       "      <th>saturated-fat_100g</th>\n",
       "      <th>sugars_100g</th>\n",
       "      <th>energy-kcal_100g</th>\n",
       "      <th>carbohydrates_100g</th>\n",
       "      <th>proteins_100g</th>\n",
       "      <th>fruits-vegetables-nuts-estimate-from-ingredients_100g</th>\n",
       "      <th>fat_100g</th>\n",
       "      <th>sodium_100g</th>\n",
       "      <th>nutrition-score-fr_100g</th>\n",
       "      <th>salt_100g</th>\n",
       "      <th>fiber_100g</th>\n",
       "      <th>carbon-footprint-from-known-ingredients_100g</th>\n",
       "      <th>nova-group_100g</th>\n",
       "      <th>vitamin-k_100g</th>\n",
       "      <th>energy-kj_100g</th>\n",
       "      <th>magnesium_100g</th>\n",
       "      <th>vitamin-pp_100g</th>\n",
       "      <th>vitamin-b9_100g</th>\n",
       "      <th>vitamin-e_100g</th>\n",
       "      <th>biotin_100g</th>\n",
       "      <th>phosphorus_100g</th>\n",
       "      <th>vitamin-b12_100g</th>\n",
       "      <th>calcium_100g</th>\n",
       "      <th>vitamin-d_100g</th>\n",
       "      <th>vitamin-b2_100g</th>\n",
       "    </tr>\n",
       "  </thead>\n",
       "  <tbody>\n",
       "    <tr>\n",
       "      <th>0</th>\n",
       "      <td>0.9</td>\n",
       "      <td>6.6</td>\n",
       "      <td>232</td>\n",
       "      <td>24.8</td>\n",
       "      <td>8.4</td>\n",
       "      <td>0.0</td>\n",
       "      <td>9.7</td>\n",
       "      <td>0.48</td>\n",
       "      <td>3.0</td>\n",
       "      <td>1.2</td>\n",
       "      <td>NaN</td>\n",
       "      <td>NaN</td>\n",
       "      <td>NaN</td>\n",
       "      <td>NaN</td>\n",
       "      <td>NaN</td>\n",
       "      <td>NaN</td>\n",
       "      <td>NaN</td>\n",
       "      <td>NaN</td>\n",
       "      <td>NaN</td>\n",
       "      <td>NaN</td>\n",
       "      <td>NaN</td>\n",
       "      <td>NaN</td>\n",
       "      <td>NaN</td>\n",
       "      <td>NaN</td>\n",
       "      <td>NaN</td>\n",
       "    </tr>\n",
       "  </tbody>\n",
       "</table>\n",
       "</div>"
      ],
      "text/plain": [
       "   saturated-fat_100g  sugars_100g  energy-kcal_100g  carbohydrates_100g  \\\n",
       "0                 0.9          6.6               232                24.8   \n",
       "\n",
       "   proteins_100g  fruits-vegetables-nuts-estimate-from-ingredients_100g  \\\n",
       "0            8.4                                                0.0       \n",
       "\n",
       "   fat_100g  sodium_100g  nutrition-score-fr_100g  salt_100g  fiber_100g  \\\n",
       "0       9.7         0.48                      3.0        1.2         NaN   \n",
       "\n",
       "   carbon-footprint-from-known-ingredients_100g  nova-group_100g  \\\n",
       "0                                           NaN              NaN   \n",
       "\n",
       "   vitamin-k_100g  energy-kj_100g  magnesium_100g  vitamin-pp_100g  \\\n",
       "0             NaN             NaN             NaN              NaN   \n",
       "\n",
       "   vitamin-b9_100g  vitamin-e_100g  biotin_100g  phosphorus_100g  \\\n",
       "0              NaN             NaN          NaN              NaN   \n",
       "\n",
       "   vitamin-b12_100g  calcium_100g  vitamin-d_100g  vitamin-b2_100g  \n",
       "0               NaN           NaN             NaN              NaN  "
      ]
     },
     "execution_count": 9,
     "metadata": {},
     "output_type": "execute_result"
    }
   ],
   "source": [
    "all_foods_df.filter(regex=\"100g\").drop(\"energy_100g\", axis=1).head(1)"
   ]
  },
  {
   "cell_type": "code",
   "execution_count": 11,
   "metadata": {},
   "outputs": [
    {
     "data": {
      "text/plain": [
       "array([dtype('O'), dtype('float64'), dtype('int64')], dtype=object)"
      ]
     },
     "execution_count": 11,
     "metadata": {},
     "output_type": "execute_result"
    }
   ],
   "source": [
    "all_foods_df.dtypes.unique()"
   ]
  },
  {
   "cell_type": "code",
   "execution_count": null,
   "metadata": {},
   "outputs": [],
   "source": [
    "stop!"
   ]
  },
  {
   "cell_type": "code",
   "execution_count": null,
   "metadata": {},
   "outputs": [],
   "source": [
    "_ = plt.figure(figsize=(6, 5))\n",
    "for colname in all_foods_df.filter(regex=\"100g\").drop(\"energy_100g\", axis=1).dropna(axis=1).columns.tolist():\n",
    "    _ = plt.barh(all_foods_df[\"product_name\"], all_foods_df[colname])\n",
    "    _ = plt.axvline(all_foods_df[colname].median(), color=\"red\", linestyle=\"--\")\n",
    "    _ = plt.text(x=all_foods_df[colname].median()+all_foods_df[colname].describe()[\"max\"]/14,\n",
    "                 y=0,\n",
    "                 s=f'Median amount == {all_foods_df[colname].median().round(2)}',color=\"red\", fontsize=12)\n",
    "    _ = plt.title(f\"{colname} amounts\")\n",
    "    _ = plt.show()"
   ]
  },
  {
   "cell_type": "code",
   "execution_count": null,
   "metadata": {},
   "outputs": [],
   "source": [
    "sugg_df.T"
   ]
  },
  {
   "cell_type": "code",
   "execution_count": null,
   "metadata": {},
   "outputs": [],
   "source": [
    "def unit_conversion(amount, unit):\n",
    "    if unit == \"mg\":\n",
    "        return amount / 1000\n",
    "    elif unit == \"μg\":\n",
    "        return amount / 100000\n",
    "    else:\n",
    "        return amount"
   ]
  },
  {
   "cell_type": "code",
   "execution_count": null,
   "metadata": {},
   "outputs": [],
   "source": [
    "sugg_df[\"converted_amount\"] = sugg_df.apply(lambda row: unit_conversion(row['amount'], row['Units']), axis=1)"
   ]
  },
  {
   "cell_type": "code",
   "execution_count": null,
   "metadata": {},
   "outputs": [],
   "source": [
    "plt.figure(figsize=(6,5))\n",
    "for i, j in [0, 0.1], [0.1, 10], [10, 300]:\n",
    "    _ = sns.barplot(data=sugg_df[sugg_df[\"converted_amount\"].between(i, j)], x=\"converted_amount\", y=\"Nutrient\")\n",
    "    _ = plt.show()"
   ]
  },
  {
   "cell_type": "code",
   "execution_count": null,
   "metadata": {},
   "outputs": [],
   "source": [
    "# (markers, stemlines, baseline) = plt.stem(all_foods_df.index, all_foods_df[\"energy-kcal\"])\n",
    "# _ = plt.setp(markers, marker='D', markersize=6, markeredgecolor=\"orange\", markeredgewidth=2)\n",
    "# _ = plt.axhline(all_foods_df[\"energy-kcal\"].median(), color=\"red\", linestyle=\"--\")\n",
    "# _ = plt.ylabel(\"Kcal\")"
   ]
  },
  {
   "cell_type": "code",
   "execution_count": null,
   "metadata": {},
   "outputs": [],
   "source": [
    "stop!"
   ]
  },
  {
   "cell_type": "markdown",
   "metadata": {},
   "source": [
    "### upload csv to sql table"
   ]
  },
  {
   "cell_type": "code",
   "execution_count": null,
   "metadata": {},
   "outputs": [],
   "source": [
    "# # Read sqlite query results into a pandas DataFrame\n",
    "# conn = sqlite3.connect(\"energy_tracker.db\")\n",
    "# df = pd.read_csv(\"Suggested_nutritional_intake.csv\",sep=';',quotechar='\\'',encoding='utf8') # Replace Excel_file_name with your excel sheet name\n",
    "# df.to_sql('suggested_energy_intake_v2',con=con,index=False,if_exists='append') # Replace Table_name with your sql table name"
   ]
  }
 ],
 "metadata": {
  "kernelspec": {
   "display_name": "general",
   "language": "python",
   "name": "general"
  },
  "language_info": {
   "codemirror_mode": {
    "name": "ipython",
    "version": 3
   },
   "file_extension": ".py",
   "mimetype": "text/x-python",
   "name": "python",
   "nbconvert_exporter": "python",
   "pygments_lexer": "ipython3",
   "version": "3.9.2"
  }
 },
 "nbformat": 4,
 "nbformat_minor": 4
}
