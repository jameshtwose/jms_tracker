{
 "cells": [
  {
   "cell_type": "markdown",
   "metadata": {},
   "source": [
    "# Using internal_utils functions from the `jmspack` package to manipulate the postgresql back end of `jms_tracker`"
   ]
  },
  {
   "cell_type": "markdown",
   "metadata": {},
   "source": [
    "## Possible internal_utils functions\n",
    "\n",
    "- postgresql_data_extraction()\n",
    "- postgresql_table_names_list()\n",
    "- create_postgresql_table_based_on_df()\n",
    "- add_data_to_postgresql_table()\n",
    "- delete_postgresql_table()"
   ]
  },
  {
   "cell_type": "code",
   "execution_count": 64,
   "metadata": {},
   "outputs": [],
   "source": [
    "import os\n",
    "import psycopg2\n",
    "import pandas as pd\n",
    "from dotenv import load_dotenv\n",
    "from jmspack.internal_utils import (postgresql_data_extraction,\n",
    "                                    postgresql_table_names_list,\n",
    "                                   create_postgresql_table_based_on_df,\n",
    "                                    add_data_to_postgresql_table,\n",
    "                                   delete_postgresql_table)\n",
    "from datetime import datetime"
   ]
  },
  {
   "cell_type": "code",
   "execution_count": 4,
   "metadata": {},
   "outputs": [
    {
     "data": {
      "text/plain": [
       "True"
      ]
     },
     "execution_count": 4,
     "metadata": {},
     "output_type": "execute_result"
    }
   ],
   "source": [
    "load_dotenv(\".env\")"
   ]
  },
  {
   "cell_type": "markdown",
   "metadata": {},
   "source": [
    "## Extract table names from an external postgresql database"
   ]
  },
  {
   "cell_type": "code",
   "execution_count": 5,
   "metadata": {},
   "outputs": [
    {
     "data": {
      "text/plain": [
       "[('django_session',),\n",
       " ('iris_test',),\n",
       " ('suggested_energy_intake',),\n",
       " ('sleep_data',),\n",
       " ('django_migrations',),\n",
       " ('django_content_type',),\n",
       " ('auth_permission',),\n",
       " ('auth_group',),\n",
       " ('auth_group_permissions',),\n",
       " ('auth_user_groups',),\n",
       " ('auth_user_user_permissions',),\n",
       " ('auth_user',),\n",
       " ('django_admin_log',)]"
      ]
     },
     "execution_count": 5,
     "metadata": {},
     "output_type": "execute_result"
    }
   ],
   "source": [
    "table_list = postgresql_table_names_list(database_name = 'tracker',\n",
    "                                         user='tracker',)\n",
    "table_list"
   ]
  },
  {
   "cell_type": "markdown",
   "metadata": {},
   "source": [
    "## Create an external postgresql table based on a pandas dataframe"
   ]
  },
  {
   "cell_type": "markdown",
   "metadata": {},
   "source": [
    "PUT response = {\n",
    "barcode: int64,\n",
    "amount: float32,\n",
    "}"
   ]
  },
  {
   "cell_type": "code",
   "execution_count": 15,
   "metadata": {},
   "outputs": [],
   "source": [
    "amount_df = pd.DataFrame({\"user_id\": 1,\n",
    "    \"timestamp\": datetime.now(),\n",
    "    \"barcode\": 8714779001053, \n",
    "             \"amount\": 1.2}, index=[0])"
   ]
  },
  {
   "cell_type": "code",
   "execution_count": 16,
   "metadata": {},
   "outputs": [
    {
     "data": {
      "text/plain": [
       "'CREATE TABLE foodIntakes (\\n                user_id int,\\ntimestamp timestamp,\\nbarcode int,\\namount float\\n    )'"
      ]
     },
     "execution_count": 16,
     "metadata": {},
     "output_type": "execute_result"
    }
   ],
   "source": [
    "create_postgresql_table_based_on_df(df=amount_df,\n",
    "                         database_name=\"tracker\",\n",
    "                             user=\"tracker\",\n",
    "                            table_name=\"foodIntakes\",\n",
    "                            )"
   ]
  },
  {
   "cell_type": "markdown",
   "metadata": {},
   "source": [
    "GET foodCodes\n",
    "response = [{\n",
    "name: str,\n",
    "barcode: int64,\n",
    "}]"
   ]
  },
  {
   "cell_type": "code",
   "execution_count": 71,
   "metadata": {},
   "outputs": [],
   "source": [
    "codes_df = pd.DataFrame({\"name\": \"Falafel\",\n",
    "    \"barcode\": 8714779001053}, index=[0])"
   ]
  },
  {
   "cell_type": "code",
   "execution_count": 72,
   "metadata": {},
   "outputs": [
    {
     "data": {
      "text/plain": [
       "'CREATE TABLE foodCodes (\\n                name text,\\nbarcode int\\n    )'"
      ]
     },
     "execution_count": 72,
     "metadata": {},
     "output_type": "execute_result"
    }
   ],
   "source": [
    "create_postgresql_table_based_on_df(df=codes_df,\n",
    "                         database_name=\"tracker\",\n",
    "                             user=\"tracker\",\n",
    "                            table_name=\"foodCodes\",\n",
    "                            )"
   ]
  },
  {
   "cell_type": "markdown",
   "metadata": {},
   "source": [
    "## Add data from a pandas dataframe to an external postgresql table"
   ]
  },
  {
   "cell_type": "code",
   "execution_count": 35,
   "metadata": {},
   "outputs": [
    {
     "data": {
      "text/plain": [
       "user_id               int64\n",
       "timestamp    datetime64[ns]\n",
       "barcode               int64\n",
       "amount              float64\n",
       "dtype: object"
      ]
     },
     "execution_count": 35,
     "metadata": {},
     "output_type": "execute_result"
    }
   ],
   "source": [
    "amount_df.astype({\"user_id\": int,\n",
    "                 \"barcode\": int}).dtypes"
   ]
  },
  {
   "cell_type": "code",
   "execution_count": 62,
   "metadata": {},
   "outputs": [],
   "source": [
    "def temp_add_data_to_postgresql_table(\n",
    "    df: pd.DataFrame,\n",
    "    database_name: str,\n",
    "    user: str,\n",
    "    table_name: str,\n",
    "):\n",
    "    columns_string = \", \".join(df.columns.tolist())\n",
    "    value_placeholder_string = \", \".join([\"%s\" for x in range(0, df.shape[1])])\n",
    "    insert_string = f\"\"\"INSERT INTO {table_name} ({columns_string}) VALUES ({value_placeholder_string})\"\"\"\n",
    "    try:\n",
    "        conn = psycopg2.connect(\n",
    "            host=os.getenv(\"postgresql_host\"),\n",
    "            database=database_name,\n",
    "            user=user,\n",
    "            password=os.getenv(\"postgresql_password\"),\n",
    "        )\n",
    "        cursor = conn.cursor()\n",
    "        for oid in range(0, df.shape[0]):\n",
    "            value_tuple = tuple(str(df.loc[oid, df.columns[col_number]]) \n",
    "                          if \"numpy\" in str(type(df.loc[oid, df.columns[col_number]])) \n",
    "                          else df.loc[oid, df.columns[col_number]] \n",
    "                          for col_number in range(0, df.shape[1]))\n",
    "            _ = cursor.execute(insert_string, value_tuple)\n",
    "\n",
    "        _ = conn.commit()\n",
    "        _ = conn.close()\n",
    "\n",
    "    except psycopg2.Error as e:\n",
    "        print(e)\n",
    "\n",
    "    return insert_string"
   ]
  },
  {
   "cell_type": "code",
   "execution_count": 76,
   "metadata": {},
   "outputs": [],
   "source": [
    "database_name=\"tracker\"\n",
    "user=\"tracker\"\n",
    "table_name=\"foodcodes\""
   ]
  },
  {
   "cell_type": "code",
   "execution_count": 77,
   "metadata": {},
   "outputs": [],
   "source": [
    "df=codes_df"
   ]
  },
  {
   "cell_type": "code",
   "execution_count": 89,
   "metadata": {},
   "outputs": [
    {
     "data": {
      "text/plain": [
       "'INSERT INTO foodcodes (name, barcode) VALUES (%s, %s)'"
      ]
     },
     "execution_count": 89,
     "metadata": {},
     "output_type": "execute_result"
    }
   ],
   "source": [
    "columns_string = \", \".join(df.columns.tolist())\n",
    "value_placeholder_string = \", \".join([\"%s\" for x in range(0, df.shape[1])])\n",
    "insert_string = f\"\"\"INSERT INTO {table_name} ({columns_string}) VALUES ({value_placeholder_string})\"\"\"\n",
    "insert_string"
   ]
  },
  {
   "cell_type": "code",
   "execution_count": 90,
   "metadata": {},
   "outputs": [],
   "source": [
    "try:\n",
    "    conn = psycopg2.connect(\n",
    "        host=os.getenv(\"postgresql_host\"),\n",
    "        database=database_name,\n",
    "        user=user,\n",
    "        password=os.getenv(\"postgresql_password\"),\n",
    "    )\n",
    "    cursor = conn.cursor()\n",
    "    value_tuple = (\"Hummus pikant\", str(8711852200181))\n",
    "    _ = cursor.execute(insert_string, value_tuple)\n",
    "\n",
    "    _ = conn.commit()\n",
    "    _ = conn.close()\n",
    "\n",
    "except psycopg2.Error as e:\n",
    "    print(e)"
   ]
  },
  {
   "cell_type": "code",
   "execution_count": null,
   "metadata": {},
   "outputs": [],
   "source": [
    "amount_df.user_id[0]"
   ]
  },
  {
   "cell_type": "code",
   "execution_count": 83,
   "metadata": {},
   "outputs": [
    {
     "name": "stdout",
     "output_type": "stream",
     "text": [
      "can't adapt type 'numpy.int64'\n"
     ]
    },
    {
     "data": {
      "text/plain": [
       "'INSERT INTO foodcodes (name, barcode) VALUES (%s, %s)'"
      ]
     },
     "execution_count": 83,
     "metadata": {},
     "output_type": "execute_result"
    }
   ],
   "source": [
    "temp_add_data_to_postgresql_table(df=codes_df,\n",
    "                         database_name=\"tracker\",\n",
    "                             user=\"tracker\",\n",
    "                            table_name=\"foodcodes\",\n",
    "                            )"
   ]
  },
  {
   "cell_type": "markdown",
   "metadata": {},
   "source": [
    "## Read in data from an external postgresql database"
   ]
  },
  {
   "cell_type": "code",
   "execution_count": 91,
   "metadata": {},
   "outputs": [],
   "source": [
    "df = postgresql_data_extraction(table_name = 'foodcodes',\n",
    "                                database_name = 'tracker',\n",
    "                                user='tracker',)"
   ]
  },
  {
   "cell_type": "code",
   "execution_count": 97,
   "metadata": {},
   "outputs": [
    {
     "data": {
      "text/plain": [
       "'[{\"name\":\"Falafel\",\"barcode\":\"8714779001053                   \"},{\"name\":\"Hummus pikant\",\"barcode\":\"8711852200181                   \"}]'"
      ]
     },
     "execution_count": 97,
     "metadata": {},
     "output_type": "execute_result"
    }
   ],
   "source": [
    "df.to_json(orient=\"records\")"
   ]
  },
  {
   "cell_type": "code",
   "execution_count": 11,
   "metadata": {},
   "outputs": [],
   "source": [
    "# df = postgresql_data_extraction(table_name = 'suggested_energy_intake',\n",
    "#                                 database_name = 'tracker',\n",
    "#                                 user='tracker',)\n",
    "\n",
    "df = postgresql_data_extraction(table_name = 'iris_test',\n",
    "                                database_name = 'tracker',\n",
    "                                user='tracker',)"
   ]
  },
  {
   "cell_type": "code",
   "execution_count": 12,
   "metadata": {},
   "outputs": [
    {
     "data": {
      "text/html": [
       "<div>\n",
       "<style scoped>\n",
       "    .dataframe tbody tr th:only-of-type {\n",
       "        vertical-align: middle;\n",
       "    }\n",
       "\n",
       "    .dataframe tbody tr th {\n",
       "        vertical-align: top;\n",
       "    }\n",
       "\n",
       "    .dataframe thead th {\n",
       "        text-align: right;\n",
       "    }\n",
       "</style>\n",
       "<table border=\"1\" class=\"dataframe\">\n",
       "  <thead>\n",
       "    <tr style=\"text-align: right;\">\n",
       "      <th></th>\n",
       "      <th>sepal_length</th>\n",
       "      <th>sepal_width</th>\n",
       "      <th>petal_length</th>\n",
       "      <th>petal_width</th>\n",
       "      <th>species</th>\n",
       "    </tr>\n",
       "  </thead>\n",
       "  <tbody>\n",
       "    <tr>\n",
       "      <th>0</th>\n",
       "      <td>5.1</td>\n",
       "      <td>3.5</td>\n",
       "      <td>1.4</td>\n",
       "      <td>0.2</td>\n",
       "      <td>setosa</td>\n",
       "    </tr>\n",
       "    <tr>\n",
       "      <th>1</th>\n",
       "      <td>4.9</td>\n",
       "      <td>3.0</td>\n",
       "      <td>1.4</td>\n",
       "      <td>0.2</td>\n",
       "      <td>setosa</td>\n",
       "    </tr>\n",
       "    <tr>\n",
       "      <th>2</th>\n",
       "      <td>4.7</td>\n",
       "      <td>3.2</td>\n",
       "      <td>1.3</td>\n",
       "      <td>0.2</td>\n",
       "      <td>setosa</td>\n",
       "    </tr>\n",
       "    <tr>\n",
       "      <th>3</th>\n",
       "      <td>4.6</td>\n",
       "      <td>3.1</td>\n",
       "      <td>1.5</td>\n",
       "      <td>0.2</td>\n",
       "      <td>setosa</td>\n",
       "    </tr>\n",
       "    <tr>\n",
       "      <th>4</th>\n",
       "      <td>5.0</td>\n",
       "      <td>3.6</td>\n",
       "      <td>1.4</td>\n",
       "      <td>0.2</td>\n",
       "      <td>setosa</td>\n",
       "    </tr>\n",
       "  </tbody>\n",
       "</table>\n",
       "</div>"
      ],
      "text/plain": [
       "   sepal_length  sepal_width  petal_length  petal_width species\n",
       "0           5.1          3.5           1.4          0.2  setosa\n",
       "1           4.9          3.0           1.4          0.2  setosa\n",
       "2           4.7          3.2           1.3          0.2  setosa\n",
       "3           4.6          3.1           1.5          0.2  setosa\n",
       "4           5.0          3.6           1.4          0.2  setosa"
      ]
     },
     "execution_count": 12,
     "metadata": {},
     "output_type": "execute_result"
    }
   ],
   "source": [
    "df.head()"
   ]
  },
  {
   "cell_type": "markdown",
   "metadata": {},
   "source": [
    "## Delete an external postgresql database"
   ]
  },
  {
   "cell_type": "markdown",
   "metadata": {},
   "source": [
    "#### Printing table names before and after to check removal occurs"
   ]
  },
  {
   "cell_type": "code",
   "execution_count": 10,
   "metadata": {},
   "outputs": [
    {
     "data": {
      "text/plain": [
       "[('django_session',),\n",
       " ('iris_test',),\n",
       " ('suggested_energy_intake',),\n",
       " ('django_migrations',),\n",
       " ('django_content_type',),\n",
       " ('auth_permission',),\n",
       " ('auth_group',),\n",
       " ('auth_group_permissions',),\n",
       " ('auth_user_groups',),\n",
       " ('auth_user_user_permissions',),\n",
       " ('auth_user',),\n",
       " ('django_admin_log',)]"
      ]
     },
     "execution_count": 10,
     "metadata": {},
     "output_type": "execute_result"
    }
   ],
   "source": [
    "postgresql_table_names_list(database_name = 'tracker',\n",
    "                                         user='tracker',)"
   ]
  },
  {
   "cell_type": "code",
   "execution_count": 11,
   "metadata": {},
   "outputs": [
    {
     "data": {
      "text/plain": [
       "'iris_test has been deleted from tracker'"
      ]
     },
     "execution_count": 11,
     "metadata": {},
     "output_type": "execute_result"
    }
   ],
   "source": [
    "delete_postgresql_table(database_name=\"tracker\",\n",
    "                             user=\"tracker\",\n",
    "                            table_name=\"iris_test\",)"
   ]
  },
  {
   "cell_type": "code",
   "execution_count": 12,
   "metadata": {},
   "outputs": [
    {
     "data": {
      "text/plain": [
       "[('django_session',),\n",
       " ('suggested_energy_intake',),\n",
       " ('django_migrations',),\n",
       " ('django_content_type',),\n",
       " ('auth_permission',),\n",
       " ('auth_group',),\n",
       " ('auth_group_permissions',),\n",
       " ('auth_user_groups',),\n",
       " ('auth_user_user_permissions',),\n",
       " ('auth_user',),\n",
       " ('django_admin_log',)]"
      ]
     },
     "execution_count": 12,
     "metadata": {},
     "output_type": "execute_result"
    }
   ],
   "source": [
    "postgresql_table_names_list(database_name = 'tracker',\n",
    "                                         user='tracker',)"
   ]
  }
 ],
 "metadata": {
  "kernelspec": {
   "display_name": "general",
   "language": "python",
   "name": "general"
  },
  "language_info": {
   "codemirror_mode": {
    "name": "ipython",
    "version": 3
   },
   "file_extension": ".py",
   "mimetype": "text/x-python",
   "name": "python",
   "nbconvert_exporter": "python",
   "pygments_lexer": "ipython3",
   "version": "3.9.2"
  }
 },
 "nbformat": 4,
 "nbformat_minor": 4
}
