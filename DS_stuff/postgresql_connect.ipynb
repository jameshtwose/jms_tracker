{
 "cells": [
  {
   "cell_type": "markdown",
   "metadata": {},
   "source": [
    "## Connecting to postgreSQL"
   ]
  },
  {
   "cell_type": "code",
   "execution_count": 12,
   "metadata": {},
   "outputs": [],
   "source": [
    "import os\n",
    "tmp = os.getcwd()\n",
    "os.chdir(tmp.split(\"Coding\")[0] + \"Coding\")"
   ]
  },
  {
   "cell_type": "code",
   "execution_count": 13,
   "metadata": {},
   "outputs": [],
   "source": [
    "from dotenv import load_dotenv"
   ]
  },
  {
   "cell_type": "code",
   "execution_count": 14,
   "metadata": {},
   "outputs": [
    {
     "data": {
      "text/plain": [
       "True"
      ]
     },
     "execution_count": 14,
     "metadata": {},
     "output_type": "execute_result"
    }
   ],
   "source": [
    "load_dotenv(\".env\")"
   ]
  },
  {
   "cell_type": "code",
   "execution_count": 15,
   "metadata": {},
   "outputs": [],
   "source": [
    "import psycopg2\n",
    "import pandas as pd\n",
    "import sqlite3\n",
    "from sqlalchemy import create_engine\n",
    "import sqlalchemy"
   ]
  },
  {
   "cell_type": "code",
   "execution_count": 16,
   "metadata": {},
   "outputs": [],
   "source": [
    "tmp = os.getcwd()\n",
    "os.chdir(tmp.split(\"Coding\")[0] + \"Coding/jmspack\")\n",
    "from jmspack.internal_utils import (postgresql_data_extraction,\n",
    "                                    postgresql_table_names_list)"
   ]
  },
  {
   "cell_type": "code",
   "execution_count": 17,
   "metadata": {},
   "outputs": [],
   "source": [
    "# def postgresql_data_extraction(sql_query: str=\"SELECT * from suggested_energy_intake\"):\n",
    "#     df = pd.DataFrame()\n",
    "#     try:\n",
    "#         conn = psycopg2.connect(host=os.getenv(\"postgresql_host\"),\n",
    "#                                 database=\"tracker\",\n",
    "#                                 user=\"tracker\",\n",
    "#                                 password=os.getenv(\"postgresql_password\"))\n",
    "#         df = pd.read_sql_query(sql_query, conn)\n",
    "#         _ = conn.close()\n",
    "#     except:\n",
    "#         print(\"I am unable to connect to the database\")\n",
    "    \n",
    "#     return df"
   ]
  },
  {
   "cell_type": "code",
   "execution_count": 37,
   "metadata": {},
   "outputs": [
    {
     "data": {
      "text/plain": [
       "[('django_session',),\n",
       " ('suggested_energy_intake',),\n",
       " ('django_migrations',),\n",
       " ('django_content_type',),\n",
       " ('auth_permission',),\n",
       " ('auth_group',),\n",
       " ('auth_group_permissions',),\n",
       " ('auth_user_groups',),\n",
       " ('auth_user_user_permissions',),\n",
       " ('auth_user',),\n",
       " ('django_admin_log',)]"
      ]
     },
     "execution_count": 37,
     "metadata": {},
     "output_type": "execute_result"
    }
   ],
   "source": [
    "postgresql_table_names_list()"
   ]
  },
  {
   "cell_type": "code",
   "execution_count": 38,
   "metadata": {},
   "outputs": [
    {
     "name": "stdout",
     "output_type": "stream",
     "text": [
      "I am unable to connect to the database\n"
     ]
    }
   ],
   "source": [
    "df = postgresql_data_extraction(table_name = 'iris_test')"
   ]
  },
  {
   "cell_type": "code",
   "execution_count": 39,
   "metadata": {},
   "outputs": [],
   "source": [
    "# def aws_data_extraction(filepath: str, bucket=\"neurocast-vm-shared\", **kwargs):\n",
    "#     s3 = boto3.client(\n",
    "#             \"s3\",\n",
    "#             aws_access_key_id=os.getenv(\"AWS_KEY\"),\n",
    "#             aws_secret_access_key=os.getenv(\"AWS_SECRET_KEY\"),\n",
    "#         )\n",
    "#     obj = s3.get_object(Bucket=bucket, Key=filepath)\n",
    "\n",
    "#     return pd.read_csv(obj[\"Body\"], **kwargs)"
   ]
  },
  {
   "cell_type": "code",
   "execution_count": 40,
   "metadata": {},
   "outputs": [
    {
     "data": {
      "text/html": [
       "<div>\n",
       "<style scoped>\n",
       "    .dataframe tbody tr th:only-of-type {\n",
       "        vertical-align: middle;\n",
       "    }\n",
       "\n",
       "    .dataframe tbody tr th {\n",
       "        vertical-align: top;\n",
       "    }\n",
       "\n",
       "    .dataframe thead th {\n",
       "        text-align: right;\n",
       "    }\n",
       "</style>\n",
       "<table border=\"1\" class=\"dataframe\">\n",
       "  <thead>\n",
       "    <tr style=\"text-align: right;\">\n",
       "      <th></th>\n",
       "    </tr>\n",
       "  </thead>\n",
       "  <tbody>\n",
       "  </tbody>\n",
       "</table>\n",
       "</div>"
      ],
      "text/plain": [
       "Empty DataFrame\n",
       "Columns: []\n",
       "Index: []"
      ]
     },
     "execution_count": 40,
     "metadata": {},
     "output_type": "execute_result"
    }
   ],
   "source": [
    "df"
   ]
  },
  {
   "cell_type": "code",
   "execution_count": null,
   "metadata": {},
   "outputs": [],
   "source": [
    "stop!"
   ]
  },
  {
   "cell_type": "markdown",
   "metadata": {},
   "source": [
    "### Making the initial connection to the database"
   ]
  },
  {
   "cell_type": "code",
   "execution_count": 21,
   "metadata": {},
   "outputs": [],
   "source": [
    "try:\n",
    "    conn = psycopg2.connect(host=\"188.166.98.139\",\n",
    "                            database=\"tracker\",\n",
    "                            user=\"tracker\",\n",
    "                            password=\"HAA5oJGgylRToGIrpEKc\")\n",
    "except:\n",
    "    print(\"I am unable to connect to the database\") "
   ]
  },
  {
   "cell_type": "code",
   "execution_count": 24,
   "metadata": {},
   "outputs": [],
   "source": [
    "def delete_postgresql_table(database_name: str,\n",
    "                             user: str,\n",
    "                            table_name: str,\n",
    "                            ):\n",
    "    try:\n",
    "        conn = psycopg2.connect(\n",
    "            host=os.getenv(\"postgresql_host\"),\n",
    "            database=database_name,\n",
    "            user=user,\n",
    "            password=os.getenv(\"postgresql_password\"),\n",
    "        )\n",
    "        cursor = conn.cursor()\n",
    "        _ = cursor.execute(\"DROP TABLE iris_test;\")\n",
    "        _ = conn.commit()\n",
    "        _ = conn.close()\n",
    "    except psycopg2.Error as e:\n",
    "        print(e)\n",
    "    \n",
    "    return f\"{table_name} has been deleted from {database_name}\""
   ]
  },
  {
   "cell_type": "code",
   "execution_count": 36,
   "metadata": {},
   "outputs": [
    {
     "data": {
      "text/plain": [
       "'iris_test has been deleted from tracker'"
      ]
     },
     "execution_count": 36,
     "metadata": {},
     "output_type": "execute_result"
    }
   ],
   "source": [
    "delete_postgresql_table(database_name=\"tracker\",\n",
    "                             user=\"tracker\",\n",
    "                            table_name=\"iris_test\",)"
   ]
  },
  {
   "cell_type": "code",
   "execution_count": null,
   "metadata": {},
   "outputs": [],
   "source": [
    "cursor = conn.cursor()\n",
    "cursor.execute(\"select relname from pg_class where relkind='r' and relname !~ '^(pg_|sql_)';\")\n",
    "print(cursor.fetchall())\n",
    "table_list = cursor.fetchall()\n",
    "list(cursor.fetchall())"
   ]
  },
  {
   "cell_type": "code",
   "execution_count": null,
   "metadata": {},
   "outputs": [],
   "source": [
    "def postgresql_table_names_list(postgresql_conn: psycopg2.connect):\n",
    "    table_list = False\n",
    "    try:\n",
    "        cursor = postgresql_conn.cursor()\n",
    "        cursor.execute(\"select relname from pg_class where relkind='r' and relname !~ '^(pg_|sql_)';\")\n",
    "        table_list = cursor.fetchall()\n",
    "#         print(exists)\n",
    "        cursor.close()\n",
    "    except psycopg2.Error as e:\n",
    "        print(e)\n",
    "    return table_list"
   ]
  },
  {
   "cell_type": "code",
   "execution_count": null,
   "metadata": {},
   "outputs": [],
   "source": [
    "temp = postgresql_table_names_list(postgresql_conn=conn)"
   ]
  },
  {
   "cell_type": "code",
   "execution_count": null,
   "metadata": {},
   "outputs": [],
   "source": [
    "temp"
   ]
  },
  {
   "cell_type": "markdown",
   "metadata": {},
   "source": [
    "### Read in data from suggested_energy_intake table from postgreSQL database"
   ]
  },
  {
   "cell_type": "code",
   "execution_count": null,
   "metadata": {},
   "outputs": [],
   "source": [
    "df = pd.read_sql_query(\"SELECT * from suggested_energy_intake\", conn)\n",
    "\n",
    "# Verify that result of SQL query is stored in the dataframe\n",
    "display(df.head(1))\n",
    "\n",
    "conn.close()"
   ]
  },
  {
   "cell_type": "code",
   "execution_count": null,
   "metadata": {},
   "outputs": [],
   "source": [
    "df.head()"
   ]
  },
  {
   "cell_type": "code",
   "execution_count": null,
   "metadata": {},
   "outputs": [],
   "source": [
    "conn.close()"
   ]
  },
  {
   "cell_type": "code",
   "execution_count": null,
   "metadata": {},
   "outputs": [],
   "source": [
    "conn"
   ]
  },
  {
   "cell_type": "code",
   "execution_count": null,
   "metadata": {},
   "outputs": [],
   "source": [
    "df_dtypes_dict = df.dtypes.to_dict()"
   ]
  },
  {
   "cell_type": "code",
   "execution_count": null,
   "metadata": {},
   "outputs": [],
   "source": [
    "python_to_sql_dtypes_dict = {\"object\":\"text\",\n",
    "\"float64\":\"float\",\n",
    "\"float32\": \"float\",\n",
    "\"int8\": \"int\",\n",
    "\"int32\": \"int\", \n",
    " \"int64\": \"int\",\n",
    "\"datetime64[ns]\": \"timestamp\"}"
   ]
  },
  {
   "cell_type": "code",
   "execution_count": null,
   "metadata": {},
   "outputs": [],
   "source": [
    "columns_dtypes_list = [f\"{column} {python_to_sql_dtypes_dict[str(df_dtypes_dict[column])]}\" for column in df.columns.tolist()]"
   ]
  },
  {
   "cell_type": "code",
   "execution_count": null,
   "metadata": {},
   "outputs": [],
   "source": [
    "table_name = \"suggested_energy_intake\"\n",
    "columns_dtypes_str = ',\\n'.join(columns_dtypes_list)\n",
    "print(f\"\"\"CREATE TABLE {table_name} (\n",
    "            {columns_dtypes_str}\n",
    ")\"\"\")"
   ]
  },
  {
   "cell_type": "code",
   "execution_count": 25,
   "metadata": {},
   "outputs": [],
   "source": [
    "def create_table_based_on_df(df: pd.DataFrame,\n",
    "                             database_name: str,\n",
    "                             user: str,\n",
    "                            table_name: str,\n",
    "                            ):\n",
    "    python_to_sql_dtypes_dict = {\"object\":\"text\",\n",
    "                                \"float64\":\"float\",\n",
    "                                \"float32\": \"float\",\n",
    "                                \"int8\": \"int\",\n",
    "                                \"int32\": \"int\", \n",
    "                                 \"int64\": \"int\",\n",
    "                                \"datetime64[ns]\": \"timestamp\"}\n",
    "    df_dtypes_dict = df.dtypes.to_dict()\n",
    "    columns_dtypes_list = [f\"{column} {python_to_sql_dtypes_dict[str(df_dtypes_dict[column])]}\" for column in df.columns.tolist()]\n",
    "    columns_dtypes_str = ',\\n'.join(columns_dtypes_list)\n",
    "    table_string = f\"\"\"CREATE TABLE {table_name} (\n",
    "                {columns_dtypes_str}\n",
    "    )\"\"\"\n",
    "    \n",
    "    try:\n",
    "        conn = psycopg2.connect(\n",
    "            host=os.getenv(\"postgresql_host\"),\n",
    "            database=database_name,\n",
    "            user=user,\n",
    "            password=os.getenv(\"postgresql_password\"),\n",
    "        )\n",
    "        cursor = conn.cursor()\n",
    "        _ = cursor.execute(table_string)\n",
    "        _ = conn.commit()\n",
    "        _ = conn.close()\n",
    "    except psycopg2.Error as e:\n",
    "        print(e)\n",
    "    \n",
    "    return table_string"
   ]
  },
  {
   "cell_type": "code",
   "execution_count": 27,
   "metadata": {},
   "outputs": [],
   "source": [
    "import seaborn as sns\n",
    "\n",
    "df = sns.load_dataset(\"iris\")"
   ]
  },
  {
   "cell_type": "code",
   "execution_count": 29,
   "metadata": {},
   "outputs": [
    {
     "data": {
      "text/plain": [
       "'CREATE TABLE iris_test (\\n                sepal_length float,\\nsepal_width float,\\npetal_length float,\\npetal_width float,\\nspecies text\\n    )'"
      ]
     },
     "execution_count": 29,
     "metadata": {},
     "output_type": "execute_result"
    }
   ],
   "source": [
    "create_table_based_on_df(df=df,\n",
    "                         database_name=\"tracker\",\n",
    "                             user=\"tracker\",\n",
    "                            table_name=\"iris_test\",\n",
    "                            )"
   ]
  },
  {
   "cell_type": "code",
   "execution_count": 32,
   "metadata": {},
   "outputs": [
    {
     "data": {
      "text/plain": [
       "'INSERT INTO iris_test (sepal_length, sepal_width, petal_length, petal_width, species) VALUES (%s, %s, %s, %s, %s)'"
      ]
     },
     "execution_count": 32,
     "metadata": {},
     "output_type": "execute_result"
    }
   ],
   "source": [
    "add_data_to_sql_table(df=df,\n",
    "                         database_name=\"tracker\",\n",
    "                             user=\"tracker\",\n",
    "                            table_name=\"iris_test\",\n",
    "                            )"
   ]
  },
  {
   "cell_type": "code",
   "execution_count": null,
   "metadata": {},
   "outputs": [],
   "source": [
    "df.head(1)"
   ]
  },
  {
   "cell_type": "code",
   "execution_count": null,
   "metadata": {},
   "outputs": [],
   "source": [
    "# for oid in range(0, df.shape[0]):\n",
    "#     for col_number in range(0, df.shape[1]):\n",
    "#         print(df.loc[oid, df.columns[col_number]])"
   ]
  },
  {
   "cell_type": "code",
   "execution_count": null,
   "metadata": {},
   "outputs": [],
   "source": [
    "for oid in range(0, df.shape[0]):\n",
    "    value_tuple = tuple(df.loc[oid, df.columns[col_number]] for col_number in range(0, df.shape[1]))\n",
    "#     print(value_tuple)"
   ]
  },
  {
   "cell_type": "code",
   "execution_count": 31,
   "metadata": {},
   "outputs": [],
   "source": [
    "def add_data_to_sql_table(df: pd.DataFrame,\n",
    "                             database_name: str,\n",
    "                             user: str,\n",
    "                            table_name: str,\n",
    "                            ):\n",
    "    \n",
    "    columns_string = ', '.join(df.columns.tolist())\n",
    "    value_placeholder_string = \", \".join([\"%s\" for x in range(0, df.shape[1])])\n",
    "    insert_string = f\"\"\"INSERT INTO {table_name} ({columns_string}) VALUES ({value_placeholder_string})\"\"\"\n",
    "    try:\n",
    "        conn = psycopg2.connect(\n",
    "            host=os.getenv(\"postgresql_host\"),\n",
    "            database=database_name,\n",
    "            user=user,\n",
    "            password=os.getenv(\"postgresql_password\"),\n",
    "        )\n",
    "        cursor = conn.cursor()\n",
    "        for oid in range(0, df.shape[0]):\n",
    "            value_tuple = tuple(df.loc[oid, df.columns[col_number]] for col_number in range(0, df.shape[1]))\n",
    "            _ = cursor.execute(insert_string, value_tuple)\n",
    "        \n",
    "        _ = conn.commit()\n",
    "        _ = conn.close()\n",
    "        \n",
    "    except psycopg2.Error as e:\n",
    "        print(e)\n",
    "    \n",
    "    return insert_string"
   ]
  },
  {
   "cell_type": "code",
   "execution_count": null,
   "metadata": {},
   "outputs": [],
   "source": [
    "columns_string = ', '.join(df.columns.tolist())\n",
    "value_placeholder_string = \", \".join([\"%s\" for x in range(0, df.shape[1])])"
   ]
  },
  {
   "cell_type": "code",
   "execution_count": null,
   "metadata": {},
   "outputs": [],
   "source": [
    "insert_string = f\"\"\"INSERT INTO {table_name} ({columns_string}) VALUES ({value_placeholder_string})\"\"\", "
   ]
  },
  {
   "cell_type": "code",
   "execution_count": null,
   "metadata": {},
   "outputs": [],
   "source": [
    "c = conn.cursor()\n",
    "try: \n",
    "    for oid in range(0, df.shape[0]):\n",
    "#         print(oid)\n",
    "        c.execute(\"\"\"INSERT INTO suggested_energy_intake (nutrient, daily_requirements, units) VALUES (%s, %s, %s)\"\"\", \n",
    "        (df.loc[oid, \"Nutrient\"], df.loc[oid, \"Daily requirements\"], df.loc[oid, \"Units\"]))\n",
    "except:\n",
    "    print(\"Unable to upload data to table\")\n",
    "conn.commit() # <--- makes sure the change is shown in the database\n",
    "conn.close()\n",
    "c.close()"
   ]
  },
  {
   "cell_type": "markdown",
   "metadata": {},
   "source": [
    "### Creating a new table in the database"
   ]
  },
  {
   "cell_type": "code",
   "execution_count": null,
   "metadata": {},
   "outputs": [],
   "source": [
    "# c = conn.cursor()\n",
    "# try:\n",
    "#     # Create table\n",
    "#     c.execute(\"\"\"CREATE TABLE suggested_energy_intake (\n",
    "#             nutrient text,\n",
    "#             daily_requirements decimal,\n",
    "#             units text\n",
    "#             )\"\"\")\n",
    "# #     cur.execute(\"CREATE TABLE test (id serial PRIMARY KEY, num integer, data varchar);\")\n",
    "# except:\n",
    "#     print(\"I can't drop our test database!\")\n",
    "\n",
    "# conn.commit() # <--- makes sure the change is shown in the database\n",
    "# conn.close()\n",
    "# c.close()"
   ]
  },
  {
   "cell_type": "markdown",
   "metadata": {},
   "source": [
    "### Uploading data to an already created table"
   ]
  },
  {
   "cell_type": "code",
   "execution_count": null,
   "metadata": {},
   "outputs": [],
   "source": [
    "# c = conn.cursor()\n",
    "# try: \n",
    "#     for oid in range(0, df.shape[0]):\n",
    "# #         print(oid)\n",
    "#         c.execute(\"\"\"INSERT INTO suggested_energy_intake (nutrient, daily_requirements, units) VALUES (%s, %s, %s)\"\"\", \n",
    "#         (df.loc[oid, \"Nutrient\"], df.loc[oid, \"Daily requirements\"], df.loc[oid, \"Units\"]))\n",
    "# except:\n",
    "#     print(\"Unable to upload data to table\")\n",
    "# conn.commit() # <--- makes sure the change is shown in the database\n",
    "# conn.close()\n",
    "# c.close()"
   ]
  },
  {
   "cell_type": "code",
   "execution_count": null,
   "metadata": {},
   "outputs": [],
   "source": [
    "stop!"
   ]
  },
  {
   "cell_type": "markdown",
   "metadata": {},
   "source": [
    "### Local SQLite database connection - read in data"
   ]
  },
  {
   "cell_type": "code",
   "execution_count": null,
   "metadata": {},
   "outputs": [],
   "source": [
    "con = sqlite3.connect(\"energy_tracker.db\")\n",
    "df = pd.read_sql_query(\"SELECT * from suggested_energy_intake\", con)\n",
    "\n",
    "# Verify that result of SQL query is stored in the dataframe\n",
    "display(df.head(1))\n",
    "\n",
    "con.close()"
   ]
  },
  {
   "cell_type": "code",
   "execution_count": null,
   "metadata": {},
   "outputs": [],
   "source": [
    "df.columns.tolist()"
   ]
  }
 ],
 "metadata": {
  "kernelspec": {
   "display_name": "general",
   "language": "python",
   "name": "general"
  },
  "language_info": {
   "codemirror_mode": {
    "name": "ipython",
    "version": 3
   },
   "file_extension": ".py",
   "mimetype": "text/x-python",
   "name": "python",
   "nbconvert_exporter": "python",
   "pygments_lexer": "ipython3",
   "version": "3.9.2"
  }
 },
 "nbformat": 4,
 "nbformat_minor": 4
}
