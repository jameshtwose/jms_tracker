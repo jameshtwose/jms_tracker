{
 "cells": [
  {
   "cell_type": "markdown",
   "metadata": {},
   "source": [
    "## Connecting to postgreSQL"
   ]
  },
  {
   "cell_type": "code",
   "execution_count": 110,
   "metadata": {},
   "outputs": [],
   "source": [
    "import os\n",
    "tmp = os.getcwd()\n",
    "os.chdir(tmp.split(\"Coding\")[0] + \"Coding\")"
   ]
  },
  {
   "cell_type": "code",
   "execution_count": 111,
   "metadata": {},
   "outputs": [],
   "source": [
    "from dotenv import load_dotenv"
   ]
  },
  {
   "cell_type": "code",
   "execution_count": 112,
   "metadata": {},
   "outputs": [
    {
     "data": {
      "text/plain": [
       "True"
      ]
     },
     "execution_count": 112,
     "metadata": {},
     "output_type": "execute_result"
    }
   ],
   "source": [
    "load_dotenv(\".env\")"
   ]
  },
  {
   "cell_type": "code",
   "execution_count": 113,
   "metadata": {},
   "outputs": [],
   "source": [
    "import psycopg2\n",
    "import pandas as pd\n",
    "import numpy as np\n",
    "import sqlite3\n",
    "from sqlalchemy import create_engine\n",
    "import sqlalchemy"
   ]
  },
  {
   "cell_type": "code",
   "execution_count": 114,
   "metadata": {},
   "outputs": [],
   "source": [
    "tmp = os.getcwd()\n",
    "os.chdir(tmp.split(\"Coding\")[0] + \"Coding/jmspack\")\n",
    "from jmspack.internal_utils import (postgresql_data_extraction,\n",
    "                                    postgresql_table_names_list)"
   ]
  },
  {
   "cell_type": "code",
   "execution_count": 115,
   "metadata": {},
   "outputs": [],
   "source": [
    "# def postgresql_data_extraction(sql_query: str=\"SELECT * from suggested_energy_intake\"):\n",
    "#     df = pd.DataFrame()\n",
    "#     try:\n",
    "#         conn = psycopg2.connect(host=os.getenv(\"postgresql_host\"),\n",
    "#                                 database=\"tracker\",\n",
    "#                                 user=\"tracker\",\n",
    "#                                 password=os.getenv(\"postgresql_password\"))\n",
    "#         df = pd.read_sql_query(sql_query, conn)\n",
    "#         _ = conn.close()\n",
    "#     except:\n",
    "#         print(\"I am unable to connect to the database\")\n",
    "    \n",
    "#     return df"
   ]
  },
  {
   "cell_type": "code",
   "execution_count": 116,
   "metadata": {},
   "outputs": [
    {
     "data": {
      "text/plain": [
       "[('django_session',),\n",
       " ('suggested_energy_intake',),\n",
       " ('sleep_data',),\n",
       " ('django_migrations',),\n",
       " ('django_content_type',),\n",
       " ('auth_permission',),\n",
       " ('auth_group',),\n",
       " ('auth_group_permissions',),\n",
       " ('auth_user_groups',),\n",
       " ('auth_user_user_permissions',),\n",
       " ('auth_user',),\n",
       " ('django_admin_log',)]"
      ]
     },
     "execution_count": 116,
     "metadata": {},
     "output_type": "execute_result"
    }
   ],
   "source": [
    "postgresql_table_names_list()"
   ]
  },
  {
   "cell_type": "code",
   "execution_count": 117,
   "metadata": {},
   "outputs": [],
   "source": [
    "df = postgresql_data_extraction(table_name = 'sleep_data')"
   ]
  },
  {
   "cell_type": "code",
   "execution_count": 118,
   "metadata": {},
   "outputs": [
    {
     "data": {
      "text/html": [
       "<div>\n",
       "<style scoped>\n",
       "    .dataframe tbody tr th:only-of-type {\n",
       "        vertical-align: middle;\n",
       "    }\n",
       "\n",
       "    .dataframe tbody tr th {\n",
       "        vertical-align: top;\n",
       "    }\n",
       "\n",
       "    .dataframe thead th {\n",
       "        text-align: right;\n",
       "    }\n",
       "</style>\n",
       "<table border=\"1\" class=\"dataframe\">\n",
       "  <thead>\n",
       "    <tr style=\"text-align: right;\">\n",
       "      <th></th>\n",
       "      <th>sleep_log_entry_id</th>\n",
       "      <th>timestamp</th>\n",
       "      <th>overall_score</th>\n",
       "      <th>composition_score</th>\n",
       "      <th>revitalization_score</th>\n",
       "      <th>duration_score</th>\n",
       "      <th>deep_sleep_in_minutes</th>\n",
       "      <th>resting_heart_rate</th>\n",
       "      <th>restlessness</th>\n",
       "    </tr>\n",
       "  </thead>\n",
       "  <tbody>\n",
       "  </tbody>\n",
       "</table>\n",
       "</div>"
      ],
      "text/plain": [
       "Empty DataFrame\n",
       "Columns: [sleep_log_entry_id, timestamp, overall_score, composition_score, revitalization_score, duration_score, deep_sleep_in_minutes, resting_heart_rate, restlessness]\n",
       "Index: []"
      ]
     },
     "execution_count": 118,
     "metadata": {},
     "output_type": "execute_result"
    }
   ],
   "source": [
    "df"
   ]
  },
  {
   "cell_type": "code",
   "execution_count": 119,
   "metadata": {},
   "outputs": [],
   "source": [
    "# def aws_data_extraction(filepath: str, bucket=\"neurocast-vm-shared\", **kwargs):\n",
    "#     s3 = boto3.client(\n",
    "#             \"s3\",\n",
    "#             aws_access_key_id=os.getenv(\"AWS_KEY\"),\n",
    "#             aws_secret_access_key=os.getenv(\"AWS_SECRET_KEY\"),\n",
    "#         )\n",
    "#     obj = s3.get_object(Bucket=bucket, Key=filepath)\n",
    "\n",
    "#     return pd.read_csv(obj[\"Body\"], **kwargs)"
   ]
  },
  {
   "cell_type": "code",
   "execution_count": 120,
   "metadata": {},
   "outputs": [
    {
     "data": {
      "text/html": [
       "<div>\n",
       "<style scoped>\n",
       "    .dataframe tbody tr th:only-of-type {\n",
       "        vertical-align: middle;\n",
       "    }\n",
       "\n",
       "    .dataframe tbody tr th {\n",
       "        vertical-align: top;\n",
       "    }\n",
       "\n",
       "    .dataframe thead th {\n",
       "        text-align: right;\n",
       "    }\n",
       "</style>\n",
       "<table border=\"1\" class=\"dataframe\">\n",
       "  <thead>\n",
       "    <tr style=\"text-align: right;\">\n",
       "      <th></th>\n",
       "      <th>sleep_log_entry_id</th>\n",
       "      <th>timestamp</th>\n",
       "      <th>overall_score</th>\n",
       "      <th>composition_score</th>\n",
       "      <th>revitalization_score</th>\n",
       "      <th>duration_score</th>\n",
       "      <th>deep_sleep_in_minutes</th>\n",
       "      <th>resting_heart_rate</th>\n",
       "      <th>restlessness</th>\n",
       "    </tr>\n",
       "  </thead>\n",
       "  <tbody>\n",
       "  </tbody>\n",
       "</table>\n",
       "</div>"
      ],
      "text/plain": [
       "Empty DataFrame\n",
       "Columns: [sleep_log_entry_id, timestamp, overall_score, composition_score, revitalization_score, duration_score, deep_sleep_in_minutes, resting_heart_rate, restlessness]\n",
       "Index: []"
      ]
     },
     "execution_count": 120,
     "metadata": {},
     "output_type": "execute_result"
    }
   ],
   "source": [
    "df"
   ]
  },
  {
   "cell_type": "code",
   "execution_count": 121,
   "metadata": {},
   "outputs": [
    {
     "ename": "SyntaxError",
     "evalue": "invalid syntax (<ipython-input-121-8c726f94684c>, line 1)",
     "output_type": "error",
     "traceback": [
      "\u001b[0;36m  File \u001b[0;32m\"<ipython-input-121-8c726f94684c>\"\u001b[0;36m, line \u001b[0;32m1\u001b[0m\n\u001b[0;31m    stop!\u001b[0m\n\u001b[0m        ^\u001b[0m\n\u001b[0;31mSyntaxError\u001b[0m\u001b[0;31m:\u001b[0m invalid syntax\n"
     ]
    }
   ],
   "source": [
    "stop!"
   ]
  },
  {
   "cell_type": "markdown",
   "metadata": {},
   "source": [
    "### Making the initial connection to the database"
   ]
  },
  {
   "cell_type": "code",
   "execution_count": 122,
   "metadata": {},
   "outputs": [],
   "source": [
    "try:\n",
    "    conn = psycopg2.connect(host=\"188.166.98.139\",\n",
    "                            database=\"tracker\",\n",
    "                            user=\"tracker\",\n",
    "                            password=\"HAA5oJGgylRToGIrpEKc\")\n",
    "except:\n",
    "    print(\"I am unable to connect to the database\") "
   ]
  },
  {
   "cell_type": "code",
   "execution_count": 123,
   "metadata": {},
   "outputs": [],
   "source": [
    "def delete_postgresql_table(database_name: str,\n",
    "                             user: str,\n",
    "                            table_name: str,\n",
    "                            ):\n",
    "    try:\n",
    "        conn = psycopg2.connect(\n",
    "            host=os.getenv(\"postgresql_host\"),\n",
    "            database=database_name,\n",
    "            user=user,\n",
    "            password=os.getenv(\"postgresql_password\"),\n",
    "        )\n",
    "        cursor = conn.cursor()\n",
    "        _ = cursor.execute(\"DROP TABLE iris_test;\")\n",
    "        _ = conn.commit()\n",
    "        _ = conn.close()\n",
    "    except psycopg2.Error as e:\n",
    "        print(e)\n",
    "    \n",
    "    return f\"{table_name} has been deleted from {database_name}\""
   ]
  },
  {
   "cell_type": "code",
   "execution_count": 124,
   "metadata": {},
   "outputs": [
    {
     "name": "stdout",
     "output_type": "stream",
     "text": [
      "table \"iris_test\" does not exist\n",
      "\n"
     ]
    },
    {
     "data": {
      "text/plain": [
       "'iris_test has been deleted from tracker'"
      ]
     },
     "execution_count": 124,
     "metadata": {},
     "output_type": "execute_result"
    }
   ],
   "source": [
    "delete_postgresql_table(database_name=\"tracker\",\n",
    "                             user=\"tracker\",\n",
    "                            table_name=\"iris_test\",)"
   ]
  },
  {
   "cell_type": "code",
   "execution_count": 125,
   "metadata": {},
   "outputs": [
    {
     "name": "stdout",
     "output_type": "stream",
     "text": [
      "[('django_session',), ('suggested_energy_intake',), ('sleep_data',), ('django_migrations',), ('django_content_type',), ('auth_permission',), ('auth_group',), ('auth_group_permissions',), ('auth_user_groups',), ('auth_user_user_permissions',), ('auth_user',), ('django_admin_log',)]\n"
     ]
    },
    {
     "data": {
      "text/plain": [
       "[]"
      ]
     },
     "execution_count": 125,
     "metadata": {},
     "output_type": "execute_result"
    }
   ],
   "source": [
    "cursor = conn.cursor()\n",
    "cursor.execute(\"select relname from pg_class where relkind='r' and relname !~ '^(pg_|sql_)';\")\n",
    "print(cursor.fetchall())\n",
    "table_list = cursor.fetchall()\n",
    "list(cursor.fetchall())"
   ]
  },
  {
   "cell_type": "code",
   "execution_count": 126,
   "metadata": {},
   "outputs": [],
   "source": [
    "def postgresql_table_names_list(postgresql_conn: psycopg2.connect):\n",
    "    table_list = False\n",
    "    try:\n",
    "        cursor = postgresql_conn.cursor()\n",
    "        cursor.execute(\"select relname from pg_class where relkind='r' and relname !~ '^(pg_|sql_)';\")\n",
    "        table_list = cursor.fetchall()\n",
    "#         print(exists)\n",
    "        cursor.close()\n",
    "    except psycopg2.Error as e:\n",
    "        print(e)\n",
    "    return table_list"
   ]
  },
  {
   "cell_type": "code",
   "execution_count": 127,
   "metadata": {},
   "outputs": [],
   "source": [
    "temp = postgresql_table_names_list(postgresql_conn=conn)"
   ]
  },
  {
   "cell_type": "code",
   "execution_count": 128,
   "metadata": {},
   "outputs": [
    {
     "data": {
      "text/plain": [
       "[('django_session',),\n",
       " ('suggested_energy_intake',),\n",
       " ('sleep_data',),\n",
       " ('django_migrations',),\n",
       " ('django_content_type',),\n",
       " ('auth_permission',),\n",
       " ('auth_group',),\n",
       " ('auth_group_permissions',),\n",
       " ('auth_user_groups',),\n",
       " ('auth_user_user_permissions',),\n",
       " ('auth_user',),\n",
       " ('django_admin_log',)]"
      ]
     },
     "execution_count": 128,
     "metadata": {},
     "output_type": "execute_result"
    }
   ],
   "source": [
    "temp"
   ]
  },
  {
   "cell_type": "markdown",
   "metadata": {},
   "source": [
    "### Read in data from suggested_energy_intake table from postgreSQL database"
   ]
  },
  {
   "cell_type": "code",
   "execution_count": 129,
   "metadata": {},
   "outputs": [
    {
     "data": {
      "text/html": [
       "<div>\n",
       "<style scoped>\n",
       "    .dataframe tbody tr th:only-of-type {\n",
       "        vertical-align: middle;\n",
       "    }\n",
       "\n",
       "    .dataframe tbody tr th {\n",
       "        vertical-align: top;\n",
       "    }\n",
       "\n",
       "    .dataframe thead th {\n",
       "        text-align: right;\n",
       "    }\n",
       "</style>\n",
       "<table border=\"1\" class=\"dataframe\">\n",
       "  <thead>\n",
       "    <tr style=\"text-align: right;\">\n",
       "      <th></th>\n",
       "      <th>nutrient</th>\n",
       "      <th>daily_requirements</th>\n",
       "      <th>units</th>\n",
       "    </tr>\n",
       "  </thead>\n",
       "  <tbody>\n",
       "    <tr>\n",
       "      <th>0</th>\n",
       "      <td>Calorie</td>\n",
       "      <td>1500.0</td>\n",
       "      <td>kcal</td>\n",
       "    </tr>\n",
       "  </tbody>\n",
       "</table>\n",
       "</div>"
      ],
      "text/plain": [
       "  nutrient  daily_requirements units\n",
       "0  Calorie              1500.0  kcal"
      ]
     },
     "metadata": {},
     "output_type": "display_data"
    }
   ],
   "source": [
    "df = pd.read_sql_query(\"SELECT * from suggested_energy_intake\", conn)\n",
    "\n",
    "# Verify that result of SQL query is stored in the dataframe\n",
    "display(df.head(1))\n",
    "\n",
    "conn.close()"
   ]
  },
  {
   "cell_type": "code",
   "execution_count": 130,
   "metadata": {},
   "outputs": [
    {
     "data": {
      "text/html": [
       "<div>\n",
       "<style scoped>\n",
       "    .dataframe tbody tr th:only-of-type {\n",
       "        vertical-align: middle;\n",
       "    }\n",
       "\n",
       "    .dataframe tbody tr th {\n",
       "        vertical-align: top;\n",
       "    }\n",
       "\n",
       "    .dataframe thead th {\n",
       "        text-align: right;\n",
       "    }\n",
       "</style>\n",
       "<table border=\"1\" class=\"dataframe\">\n",
       "  <thead>\n",
       "    <tr style=\"text-align: right;\">\n",
       "      <th></th>\n",
       "      <th>nutrient</th>\n",
       "      <th>daily_requirements</th>\n",
       "      <th>units</th>\n",
       "    </tr>\n",
       "  </thead>\n",
       "  <tbody>\n",
       "    <tr>\n",
       "      <th>0</th>\n",
       "      <td>Calorie</td>\n",
       "      <td>1500.0</td>\n",
       "      <td>kcal</td>\n",
       "    </tr>\n",
       "    <tr>\n",
       "      <th>1</th>\n",
       "      <td>Total fat</td>\n",
       "      <td>70.0</td>\n",
       "      <td>g</td>\n",
       "    </tr>\n",
       "    <tr>\n",
       "      <th>2</th>\n",
       "      <td>Saturated fat</td>\n",
       "      <td>20.0</td>\n",
       "      <td>g</td>\n",
       "    </tr>\n",
       "    <tr>\n",
       "      <th>3</th>\n",
       "      <td>Carbohydrate</td>\n",
       "      <td>260.0</td>\n",
       "      <td>g</td>\n",
       "    </tr>\n",
       "    <tr>\n",
       "      <th>4</th>\n",
       "      <td>Total sugars</td>\n",
       "      <td>90.0</td>\n",
       "      <td>g</td>\n",
       "    </tr>\n",
       "  </tbody>\n",
       "</table>\n",
       "</div>"
      ],
      "text/plain": [
       "        nutrient  daily_requirements units\n",
       "0        Calorie              1500.0  kcal\n",
       "1      Total fat                70.0     g\n",
       "2  Saturated fat                20.0     g\n",
       "3   Carbohydrate               260.0     g\n",
       "4   Total sugars                90.0     g"
      ]
     },
     "execution_count": 130,
     "metadata": {},
     "output_type": "execute_result"
    }
   ],
   "source": [
    "df.head()"
   ]
  },
  {
   "cell_type": "code",
   "execution_count": 131,
   "metadata": {},
   "outputs": [],
   "source": [
    "conn.close()"
   ]
  },
  {
   "cell_type": "code",
   "execution_count": 132,
   "metadata": {},
   "outputs": [
    {
     "data": {
      "text/plain": [
       "<connection object at 0x7f7efc1cf040; dsn: 'user=tracker password=xxx dbname=tracker host=188.166.98.139', closed: 1>"
      ]
     },
     "execution_count": 132,
     "metadata": {},
     "output_type": "execute_result"
    }
   ],
   "source": [
    "conn"
   ]
  },
  {
   "cell_type": "code",
   "execution_count": 133,
   "metadata": {},
   "outputs": [],
   "source": [
    "df_dtypes_dict = df.dtypes.to_dict()"
   ]
  },
  {
   "cell_type": "code",
   "execution_count": 134,
   "metadata": {},
   "outputs": [],
   "source": [
    "python_to_sql_dtypes_dict = {\"object\":\"text\",\n",
    "\"float64\":\"float\",\n",
    "\"float32\": \"float\",\n",
    "\"int8\": \"int\",\n",
    "\"int32\": \"int\", \n",
    " \"int64\": \"int\",\n",
    "\"datetime64[ns]\": \"timestamp\"}"
   ]
  },
  {
   "cell_type": "code",
   "execution_count": 135,
   "metadata": {},
   "outputs": [],
   "source": [
    "columns_dtypes_list = [f\"{column} {python_to_sql_dtypes_dict[str(df_dtypes_dict[column])]}\" for column in df.columns.tolist()]"
   ]
  },
  {
   "cell_type": "code",
   "execution_count": 136,
   "metadata": {},
   "outputs": [
    {
     "name": "stdout",
     "output_type": "stream",
     "text": [
      "CREATE TABLE suggested_energy_intake (\n",
      "            nutrient text,\n",
      "daily_requirements float,\n",
      "units text\n",
      ")\n"
     ]
    }
   ],
   "source": [
    "table_name = \"suggested_energy_intake\"\n",
    "columns_dtypes_str = ',\\n'.join(columns_dtypes_list)\n",
    "print(f\"\"\"CREATE TABLE {table_name} (\n",
    "            {columns_dtypes_str}\n",
    ")\"\"\")"
   ]
  },
  {
   "cell_type": "code",
   "execution_count": 137,
   "metadata": {},
   "outputs": [],
   "source": [
    "def create_table_based_on_df(df: pd.DataFrame,\n",
    "                             database_name: str,\n",
    "                             user: str,\n",
    "                            table_name: str,\n",
    "                            ):\n",
    "    python_to_sql_dtypes_dict = {\"object\":\"text\",\n",
    "                                \"float64\":\"float\",\n",
    "                                \"float32\": \"float\",\n",
    "                                \"int8\": \"int\",\n",
    "                                \"int32\": \"int\", \n",
    "                                 \"int64\": \"int\",\n",
    "                                \"datetime64[ns]\": \"timestamp\"}\n",
    "    df_dtypes_dict = df.dtypes.to_dict()\n",
    "    columns_dtypes_list = [f\"{column} {python_to_sql_dtypes_dict[str(df_dtypes_dict[column])]}\" for column in df.columns.tolist()]\n",
    "    columns_dtypes_str = ',\\n'.join(columns_dtypes_list)\n",
    "    table_string = f\"\"\"CREATE TABLE {table_name} (\n",
    "                {columns_dtypes_str}\n",
    "    )\"\"\"\n",
    "    \n",
    "    try:\n",
    "        conn = psycopg2.connect(\n",
    "            host=os.getenv(\"postgresql_host\"),\n",
    "            database=database_name,\n",
    "            user=user,\n",
    "            password=os.getenv(\"postgresql_password\"),\n",
    "        )\n",
    "        cursor = conn.cursor()\n",
    "        _ = cursor.execute(table_string)\n",
    "        _ = conn.commit()\n",
    "        _ = conn.close()\n",
    "    except psycopg2.Error as e:\n",
    "        print(e)\n",
    "    \n",
    "    return table_string"
   ]
  },
  {
   "cell_type": "code",
   "execution_count": 163,
   "metadata": {},
   "outputs": [],
   "source": [
    "import seaborn as sns\n",
    "\n",
    "df = sns.load_dataset(\"iris\")"
   ]
  },
  {
   "cell_type": "code",
   "execution_count": 164,
   "metadata": {},
   "outputs": [
    {
     "data": {
      "text/plain": [
       "'/Users/jamestwose/Coding/jmspack'"
      ]
     },
     "execution_count": 164,
     "metadata": {},
     "output_type": "execute_result"
    }
   ],
   "source": [
    "os.getcwd()"
   ]
  },
  {
   "cell_type": "code",
   "execution_count": 149,
   "metadata": {},
   "outputs": [],
   "source": [
    "df = pd.read_csv(\"../jms_tracker/DS_stuff/MyFitbitData/JamesTwose/Sleep/sleep_score.csv\")"
   ]
  },
  {
   "cell_type": "code",
   "execution_count": 150,
   "metadata": {},
   "outputs": [
    {
     "name": "stdout",
     "output_type": "stream",
     "text": [
      "<class 'pandas.core.frame.DataFrame'>\n",
      "RangeIndex: 61 entries, 0 to 60\n",
      "Data columns (total 9 columns):\n",
      " #   Column                 Non-Null Count  Dtype  \n",
      "---  ------                 --------------  -----  \n",
      " 0   sleep_log_entry_id     61 non-null     int64  \n",
      " 1   timestamp              61 non-null     object \n",
      " 2   overall_score          61 non-null     int64  \n",
      " 3   composition_score      61 non-null     int64  \n",
      " 4   revitalization_score   61 non-null     int64  \n",
      " 5   duration_score         61 non-null     int64  \n",
      " 6   deep_sleep_in_minutes  61 non-null     int64  \n",
      " 7   resting_heart_rate     61 non-null     int64  \n",
      " 8   restlessness           61 non-null     float64\n",
      "dtypes: float64(1), int64(7), object(1)\n",
      "memory usage: 4.4+ KB\n"
     ]
    }
   ],
   "source": [
    "df.info()"
   ]
  },
  {
   "cell_type": "code",
   "execution_count": 151,
   "metadata": {},
   "outputs": [
    {
     "data": {
      "text/html": [
       "<div>\n",
       "<style scoped>\n",
       "    .dataframe tbody tr th:only-of-type {\n",
       "        vertical-align: middle;\n",
       "    }\n",
       "\n",
       "    .dataframe tbody tr th {\n",
       "        vertical-align: top;\n",
       "    }\n",
       "\n",
       "    .dataframe thead th {\n",
       "        text-align: right;\n",
       "    }\n",
       "</style>\n",
       "<table border=\"1\" class=\"dataframe\">\n",
       "  <thead>\n",
       "    <tr style=\"text-align: right;\">\n",
       "      <th></th>\n",
       "      <th>sleep_log_entry_id</th>\n",
       "      <th>timestamp</th>\n",
       "      <th>overall_score</th>\n",
       "      <th>composition_score</th>\n",
       "      <th>revitalization_score</th>\n",
       "      <th>duration_score</th>\n",
       "      <th>deep_sleep_in_minutes</th>\n",
       "      <th>resting_heart_rate</th>\n",
       "      <th>restlessness</th>\n",
       "    </tr>\n",
       "  </thead>\n",
       "  <tbody>\n",
       "    <tr>\n",
       "      <th>0</th>\n",
       "      <td>31329941146</td>\n",
       "      <td>2021-03-15T07:25:30Z</td>\n",
       "      <td>73</td>\n",
       "      <td>17</td>\n",
       "      <td>20</td>\n",
       "      <td>36</td>\n",
       "      <td>58</td>\n",
       "      <td>62</td>\n",
       "      <td>0.095406</td>\n",
       "    </tr>\n",
       "    <tr>\n",
       "      <th>1</th>\n",
       "      <td>31311276181</td>\n",
       "      <td>2021-03-14T07:31:30Z</td>\n",
       "      <td>70</td>\n",
       "      <td>15</td>\n",
       "      <td>17</td>\n",
       "      <td>38</td>\n",
       "      <td>74</td>\n",
       "      <td>63</td>\n",
       "      <td>0.119711</td>\n",
       "    </tr>\n",
       "    <tr>\n",
       "      <th>2</th>\n",
       "      <td>31298350770</td>\n",
       "      <td>2021-03-13T08:05:30Z</td>\n",
       "      <td>80</td>\n",
       "      <td>18</td>\n",
       "      <td>22</td>\n",
       "      <td>40</td>\n",
       "      <td>107</td>\n",
       "      <td>63</td>\n",
       "      <td>0.083865</td>\n",
       "    </tr>\n",
       "    <tr>\n",
       "      <th>3</th>\n",
       "      <td>31285389428</td>\n",
       "      <td>2021-03-12T07:12:30Z</td>\n",
       "      <td>68</td>\n",
       "      <td>16</td>\n",
       "      <td>19</td>\n",
       "      <td>33</td>\n",
       "      <td>54</td>\n",
       "      <td>64</td>\n",
       "      <td>0.105660</td>\n",
       "    </tr>\n",
       "    <tr>\n",
       "      <th>4</th>\n",
       "      <td>31270477702</td>\n",
       "      <td>2021-03-11T07:17:30Z</td>\n",
       "      <td>71</td>\n",
       "      <td>15</td>\n",
       "      <td>18</td>\n",
       "      <td>38</td>\n",
       "      <td>88</td>\n",
       "      <td>64</td>\n",
       "      <td>0.074074</td>\n",
       "    </tr>\n",
       "  </tbody>\n",
       "</table>\n",
       "</div>"
      ],
      "text/plain": [
       "   sleep_log_entry_id             timestamp  overall_score  composition_score  \\\n",
       "0         31329941146  2021-03-15T07:25:30Z             73                 17   \n",
       "1         31311276181  2021-03-14T07:31:30Z             70                 15   \n",
       "2         31298350770  2021-03-13T08:05:30Z             80                 18   \n",
       "3         31285389428  2021-03-12T07:12:30Z             68                 16   \n",
       "4         31270477702  2021-03-11T07:17:30Z             71                 15   \n",
       "\n",
       "   revitalization_score  duration_score  deep_sleep_in_minutes  \\\n",
       "0                    20              36                     58   \n",
       "1                    17              38                     74   \n",
       "2                    22              40                    107   \n",
       "3                    19              33                     54   \n",
       "4                    18              38                     88   \n",
       "\n",
       "   resting_heart_rate  restlessness  \n",
       "0                  62      0.095406  \n",
       "1                  63      0.119711  \n",
       "2                  63      0.083865  \n",
       "3                  64      0.105660  \n",
       "4                  64      0.074074  "
      ]
     },
     "execution_count": 151,
     "metadata": {},
     "output_type": "execute_result"
    }
   ],
   "source": [
    "df.head()"
   ]
  },
  {
   "cell_type": "code",
   "execution_count": null,
   "metadata": {},
   "outputs": [],
   "source": []
  },
  {
   "cell_type": "code",
   "execution_count": 143,
   "metadata": {},
   "outputs": [],
   "source": [
    "df = df.astype(dict(zip(df.columns.tolist(), [\"int\", \"datetime64[ns]\"] + np.repeat(\"int\", 6).tolist() + [\"float\"])))"
   ]
  },
  {
   "cell_type": "code",
   "execution_count": 144,
   "metadata": {},
   "outputs": [
    {
     "data": {
      "text/plain": [
       "int"
      ]
     },
     "execution_count": 144,
     "metadata": {},
     "output_type": "execute_result"
    }
   ],
   "source": [
    "type(int(df.loc[0, \"overall_score\"]))"
   ]
  },
  {
   "cell_type": "code",
   "execution_count": 145,
   "metadata": {},
   "outputs": [
    {
     "data": {
      "text/plain": [
       "int"
      ]
     },
     "execution_count": 145,
     "metadata": {},
     "output_type": "execute_result"
    }
   ],
   "source": [
    "type(int(value_tuple[0]))"
   ]
  },
  {
   "cell_type": "code",
   "execution_count": 146,
   "metadata": {},
   "outputs": [
    {
     "name": "stdout",
     "output_type": "stream",
     "text": [
      "relation \"sleep_data\" already exists\n",
      "\n"
     ]
    },
    {
     "data": {
      "text/plain": [
       "'CREATE TABLE sleep_data (\\n                sleep_log_entry_id int,\\ntimestamp timestamp,\\noverall_score int,\\ncomposition_score int,\\nrevitalization_score int,\\nduration_score int,\\ndeep_sleep_in_minutes int,\\nresting_heart_rate int,\\nrestlessness float\\n    )'"
      ]
     },
     "execution_count": 146,
     "metadata": {},
     "output_type": "execute_result"
    }
   ],
   "source": [
    "create_table_based_on_df(df=df,\n",
    "                         database_name=\"tracker\",\n",
    "                             user=\"tracker\",\n",
    "                            table_name=\"sleep_data\",\n",
    "                            )"
   ]
  },
  {
   "cell_type": "code",
   "execution_count": 162,
   "metadata": {},
   "outputs": [
    {
     "name": "stdout",
     "output_type": "stream",
     "text": [
      "integer out of range\n",
      "\n"
     ]
    },
    {
     "data": {
      "text/plain": [
       "'INSERT INTO sleep_data (sleep_log_entry_id, timestamp, overall_score, composition_score, revitalization_score, duration_score, deep_sleep_in_minutes, resting_heart_rate, restlessness) VALUES (%s, %s, %s, %s, %s, %s, %s, %s, %s)'"
      ]
     },
     "execution_count": 162,
     "metadata": {},
     "output_type": "execute_result"
    }
   ],
   "source": [
    "add_data_to_sql_table(df=df,\n",
    "                         database_name=\"tracker\",\n",
    "                             user=\"tracker\",\n",
    "                            table_name=\"sleep_data\",\n",
    "                            )"
   ]
  },
  {
   "cell_type": "code",
   "execution_count": 68,
   "metadata": {},
   "outputs": [
    {
     "data": {
      "text/html": [
       "<div>\n",
       "<style scoped>\n",
       "    .dataframe tbody tr th:only-of-type {\n",
       "        vertical-align: middle;\n",
       "    }\n",
       "\n",
       "    .dataframe tbody tr th {\n",
       "        vertical-align: top;\n",
       "    }\n",
       "\n",
       "    .dataframe thead th {\n",
       "        text-align: right;\n",
       "    }\n",
       "</style>\n",
       "<table border=\"1\" class=\"dataframe\">\n",
       "  <thead>\n",
       "    <tr style=\"text-align: right;\">\n",
       "      <th></th>\n",
       "      <th>sleep_log_entry_id</th>\n",
       "      <th>timestamp</th>\n",
       "      <th>overall_score</th>\n",
       "      <th>composition_score</th>\n",
       "      <th>revitalization_score</th>\n",
       "      <th>duration_score</th>\n",
       "      <th>deep_sleep_in_minutes</th>\n",
       "      <th>resting_heart_rate</th>\n",
       "      <th>restlessness</th>\n",
       "    </tr>\n",
       "  </thead>\n",
       "  <tbody>\n",
       "    <tr>\n",
       "      <th>0</th>\n",
       "      <td>31329941146</td>\n",
       "      <td>2021-03-15 07:25:30</td>\n",
       "      <td>73</td>\n",
       "      <td>17</td>\n",
       "      <td>20</td>\n",
       "      <td>36</td>\n",
       "      <td>58</td>\n",
       "      <td>62</td>\n",
       "      <td>0.095406</td>\n",
       "    </tr>\n",
       "  </tbody>\n",
       "</table>\n",
       "</div>"
      ],
      "text/plain": [
       "   sleep_log_entry_id            timestamp  overall_score  composition_score  \\\n",
       "0         31329941146  2021-03-15 07:25:30             73                 17   \n",
       "\n",
       "   revitalization_score  duration_score  deep_sleep_in_minutes  \\\n",
       "0                    20              36                     58   \n",
       "\n",
       "   resting_heart_rate  restlessness  \n",
       "0                  62      0.095406  "
      ]
     },
     "execution_count": 68,
     "metadata": {},
     "output_type": "execute_result"
    }
   ],
   "source": [
    "df.head(1)"
   ]
  },
  {
   "cell_type": "code",
   "execution_count": 153,
   "metadata": {},
   "outputs": [],
   "source": [
    "table_name=\"sleep_data\"\n",
    "database_name=\"tracker\"\n",
    "user=\"tracker\""
   ]
  },
  {
   "cell_type": "code",
   "execution_count": 154,
   "metadata": {},
   "outputs": [],
   "source": [
    "python_to_sql_dtypes_dict = {\"object\":\"text\",\n",
    "                            \"float64\":\"float\",\n",
    "                            \"float32\": \"float\",\n",
    "                            \"int8\": \"int\",\n",
    "                            \"int32\": \"int\", \n",
    "                             \"int64\": \"int\",\n",
    "                            \"datetime64[ns]\": \"timestamp\"}\n",
    "df_dtypes_dict = df.dtypes.to_dict()\n",
    "columns_dtypes_list = [f\"{column} {python_to_sql_dtypes_dict[str(df_dtypes_dict[column])]}\" for column in df.columns.tolist()]\n",
    "columns_dtypes_str = ',\\n'.join(columns_dtypes_list)"
   ]
  },
  {
   "cell_type": "code",
   "execution_count": 155,
   "metadata": {},
   "outputs": [
    {
     "data": {
      "text/plain": [
       "'sleep_log_entry_id int,\\ntimestamp text,\\noverall_score int,\\ncomposition_score int,\\nrevitalization_score int,\\nduration_score int,\\ndeep_sleep_in_minutes int,\\nresting_heart_rate int,\\nrestlessness float'"
      ]
     },
     "execution_count": 155,
     "metadata": {},
     "output_type": "execute_result"
    }
   ],
   "source": [
    "columns_dtypes_str"
   ]
  },
  {
   "cell_type": "code",
   "execution_count": 156,
   "metadata": {},
   "outputs": [
    {
     "data": {
      "text/plain": [
       "'sleep_log_entry_id, timestamp, overall_score, composition_score, revitalization_score, duration_score, deep_sleep_in_minutes, resting_heart_rate, restlessness'"
      ]
     },
     "execution_count": 156,
     "metadata": {},
     "output_type": "execute_result"
    }
   ],
   "source": [
    "columns_string"
   ]
  },
  {
   "cell_type": "code",
   "execution_count": 157,
   "metadata": {},
   "outputs": [
    {
     "data": {
      "text/plain": [
       "'INSERT INTO suggested_energy_intake (sleep_log_entry_id, timestamp, overall_score, composition_score, revitalization_score, duration_score, deep_sleep_in_minutes, resting_heart_rate, restlessness) VALUES (%s, %s, %s, %s, %s, %s, %s, %s, %s)'"
      ]
     },
     "execution_count": 157,
     "metadata": {},
     "output_type": "execute_result"
    }
   ],
   "source": [
    "insert_string"
   ]
  },
  {
   "cell_type": "code",
   "execution_count": 158,
   "metadata": {},
   "outputs": [
    {
     "name": "stdout",
     "output_type": "stream",
     "text": [
      "integer out of range\n",
      "\n"
     ]
    }
   ],
   "source": [
    "columns_string = ', '.join(df.columns.tolist())\n",
    "value_placeholder_string = \", \".join([\"%s\" for x in range(0, df.shape[1])])\n",
    "insert_string = f\"\"\"INSERT INTO {table_name} ({columns_string}) VALUES ({value_placeholder_string})\"\"\"\n",
    "try:\n",
    "    conn = psycopg2.connect(\n",
    "        host=os.getenv(\"postgresql_host\"),\n",
    "        database=database_name,\n",
    "        user=user,\n",
    "        password=os.getenv(\"postgresql_password\"),\n",
    "    )\n",
    "    cursor = conn.cursor()\n",
    "    for oid in range(0, df.shape[0]):\n",
    "        value_list = list(df.loc[oid, df.columns[col_number]] for col_number in range(0, df.shape[1]))\n",
    "        for idx, x in enumerate(value_list):\n",
    "            if idx == 1:\n",
    "                value_list[idx] = str(x)\n",
    "            elif idx == 8:\n",
    "                value_list[idx] = float(x)\n",
    "            else:\n",
    "                value_list[idx] = int(x)\n",
    "        value_tuple = tuple(value_list)\n",
    "        _ = cursor.execute(insert_string, value_tuple)\n",
    "\n",
    "    _ = conn.commit()\n",
    "    _ = conn.close()\n",
    "\n",
    "except psycopg2.Error as e:\n",
    "    print(e)"
   ]
  },
  {
   "cell_type": "code",
   "execution_count": 109,
   "metadata": {},
   "outputs": [],
   "source": [
    "# for oid in range(0, df.shape[0]):\n",
    "#     value_list = list(df.loc[oid, df.columns[col_number]] for col_number in range(0, df.shape[1]))\n",
    "#     for idx, x in enumerate(value_list):\n",
    "#         if idx == 1:\n",
    "#             value_list[idx] = str(x)\n",
    "#         elif idx == 8:\n",
    "#             value_list[idx] = float(x)\n",
    "#         else:\n",
    "#             value_list[idx] = int(x)\n",
    "#     value_tuple = tuple(value_list)"
   ]
  },
  {
   "cell_type": "code",
   "execution_count": null,
   "metadata": {},
   "outputs": [],
   "source": [
    "# for oid in range(0, df.shape[0]):\n",
    "#     for col_number in range(0, df.shape[1]):\n",
    "#         print(df.loc[oid, df.columns[col_number]])"
   ]
  },
  {
   "cell_type": "code",
   "execution_count": 92,
   "metadata": {},
   "outputs": [],
   "source": [
    "value_list = list(df.loc[oid, df.columns[col_number]] for col_number in range(0, df.shape[1]))"
   ]
  },
  {
   "cell_type": "code",
   "execution_count": 159,
   "metadata": {},
   "outputs": [
    {
     "data": {
      "text/plain": [
       "[31329941146,\n",
       " '2021-03-15T07:25:30Z',\n",
       " 73,\n",
       " 17,\n",
       " 20,\n",
       " 36,\n",
       " 58,\n",
       " 62,\n",
       " 0.0954063604240282]"
      ]
     },
     "execution_count": 159,
     "metadata": {},
     "output_type": "execute_result"
    }
   ],
   "source": [
    "value_list"
   ]
  },
  {
   "cell_type": "code",
   "execution_count": 96,
   "metadata": {},
   "outputs": [],
   "source": [
    "for idx, x in enumerate(value_list):\n",
    "    if idx == 1:\n",
    "        value_list[idx] = str(x)\n",
    "    else:\n",
    "        value_list[idx] = float(x)"
   ]
  },
  {
   "cell_type": "code",
   "execution_count": 98,
   "metadata": {},
   "outputs": [
    {
     "data": {
      "text/plain": [
       "(31329941146.0,\n",
       " '2021-03-15 07:25:30',\n",
       " 73.0,\n",
       " 17.0,\n",
       " 20.0,\n",
       " 36.0,\n",
       " 58.0,\n",
       " 62.0,\n",
       " 0.0954063604240282)"
      ]
     },
     "execution_count": 98,
     "metadata": {},
     "output_type": "execute_result"
    }
   ],
   "source": [
    "tuple(value_list)"
   ]
  },
  {
   "cell_type": "code",
   "execution_count": 91,
   "metadata": {},
   "outputs": [
    {
     "name": "stdout",
     "output_type": "stream",
     "text": [
      "The original list is : [(4, 5), (6, 7), (1, 4), (8, 10)]\n",
      "The converted records : [(4, '5'), (6, '7'), (1, '4'), (8, '10')]\n"
     ]
    }
   ],
   "source": [
    "test_list = [(4, 5), (6, 7), (1, 4), (8, 10)]\n",
    "  \n",
    "# printing original list\n",
    "print(\"The original list is : \" + str(test_list))\n",
    "  \n",
    "# Change Datatype of Tuple Values\n",
    "# Using enumerate() + loop\n",
    "# converting to string using str()\n",
    "for idx, (x, y) in enumerate(test_list):\n",
    "    test_list[idx] = (x, str(y))\n",
    "  \n",
    "# printing result \n",
    "print(\"The converted records : \" + str(test_list))"
   ]
  },
  {
   "cell_type": "code",
   "execution_count": 64,
   "metadata": {},
   "outputs": [
    {
     "name": "stdout",
     "output_type": "stream",
     "text": [
      "(31329941146, Timestamp('2021-03-15 07:25:30'), 73, 17, 20, 36, 58, 62, 0.0954063604240282)\n",
      "(31311276181, Timestamp('2021-03-14 07:31:30'), 70, 15, 17, 38, 74, 63, 0.1197110423116615)\n",
      "(31298350770, Timestamp('2021-03-13 08:05:30'), 80, 18, 22, 40, 107, 63, 0.0838650865998176)\n",
      "(31285389428, Timestamp('2021-03-12 07:12:30'), 68, 16, 19, 33, 54, 64, 0.1056603773584905)\n",
      "(31270477702, Timestamp('2021-03-11 07:17:30'), 71, 15, 18, 38, 88, 64, 0.074074074074074)\n",
      "(31256942267, Timestamp('2021-03-10 07:28:30'), 64, 15, 17, 32, 64, 63, 0.0776566757493188)\n",
      "(31243052379, Timestamp('2021-03-09 07:32:00'), 72, 18, 15, 39, 76, 61, 0.0784313725490196)\n",
      "(31230306812, Timestamp('2021-03-08 07:27:00'), 75, 16, 21, 38, 75, 63, 0.0765253360910031)\n",
      "(31223089474, Timestamp('2021-03-07 08:33:00'), 78, 16, 20, 42, 68, 64, 0.08)\n",
      "(31223089473, Timestamp('2021-03-06 08:23:00'), 78, 19, 21, 38, 67, 65, 0.0773305084745762)\n",
      "(31223089472, Timestamp('2021-03-05 07:30:00'), 71, 14, 20, 37, 45, 64, 0.0745562130177514)\n",
      "(31223089471, Timestamp('2021-03-04 07:28:30'), 68, 15, 17, 36, 63, 64, 0.0678617157490397)\n",
      "(31223089469, Timestamp('2021-03-03 07:28:30'), 70, 16, 17, 37, 74, 66, 0.0839954597048808)\n",
      "(31223089468, Timestamp('2021-03-02 07:28:30'), 67, 15, 18, 34, 62, 64, 0.084870848708487)\n",
      "(31223089467, Timestamp('2021-03-01 07:57:00'), 77, 18, 22, 37, 42, 65, 0.0727762803234501)\n",
      "(31046199781, Timestamp('2021-02-23 07:37:00'), 72, 17, 19, 36, 66, 64, 0.08656330749354)\n",
      "(31032148542, Timestamp('2021-02-22 07:42:30'), 72, 16, 19, 37, 39, 64, 0.079900124843945)\n",
      "(31018479816, Timestamp('2021-02-21 09:16:00'), 80, 17, 18, 45, 88, 65, 0.078969957081545)\n",
      "(31010078902, Timestamp('2021-02-20 09:24:00'), 77, 17, 18, 42, 57, 66, 0.0773092369477911)\n",
      "(31001340586, Timestamp('2021-02-19 07:27:00'), 66, 15, 15, 36, 58, 66, 0.0678391959798995)\n",
      "(31001340585, Timestamp('2021-02-18 08:45:30'), 65, 16, 13, 36, 63, 65, 0.0816959669079627)\n",
      "(30965248276, Timestamp('2021-02-17 08:17:00'), 73, 16, 19, 38, 89, 66, 0.0746432491767288)\n",
      "(30951819635, Timestamp('2021-02-16 08:07:00'), 74, 16, 16, 42, 76, 66, 0.071805702217529)\n",
      "(30936085886, Timestamp('2021-02-15 08:03:00'), 67, 16, 14, 37, 52, 64, 0.0766509433962264)\n",
      "(30923209725, Timestamp('2021-02-14 10:38:00'), 70, 17, 14, 39, 91, 61, 0.0631929046563192)\n",
      "(30909553799, Timestamp('2021-02-13 09:23:30'), 69, 17, 13, 39, 59, 59, 0.080593849416755)\n",
      "(30909553798, Timestamp('2021-02-12 08:49:30'), 72, 16, 18, 38, 69, 59, 0.0565635005336179)\n",
      "(30884119262, Timestamp('2021-02-10 08:48:00'), 75, 17, 16, 42, 86, 59, 0.0570846075433231)\n",
      "(30852606275, Timestamp('2021-02-09 08:45:30'), 69, 17, 16, 36, 57, 59, 0.0822249093107617)\n",
      "(30840163972, Timestamp('2021-02-08 08:49:00'), 81, 18, 21, 42, 79, 61, 0.0677799607072691)\n",
      "(30826222302, Timestamp('2021-02-07 09:53:30'), 76, 17, 17, 42, 56, 61, 0.0727816550348953)\n",
      "(30813314840, Timestamp('2021-02-06 10:03:00'), 77, 18, 17, 42, 98, 61, 0.0571725571725571)\n",
      "(30802261237, Timestamp('2021-02-05 08:50:30'), 70, 16, 18, 36, 48, 62, 0.0596833130328867)\n",
      "(30802261236, Timestamp('2021-02-04 08:50:30'), 76, 17, 20, 39, 68, 62, 0.0611169652265542)\n",
      "(30802261234, Timestamp('2021-02-03 08:51:30'), 70, 16, 16, 38, 28, 61, 0.0651162790697674)\n",
      "(30802261233, Timestamp('2021-02-02 08:52:00'), 69, 17, 17, 35, 45, 61, 0.0660486674391657)\n",
      "(30802261232, Timestamp('2021-02-01 08:53:30'), 76, 16, 23, 37, 55, 61, 0.0730270906949352)\n",
      "(30802261231, Timestamp('2021-01-31 09:56:00'), 75, 15, 19, 41, 61, 61, 0.0629107981220657)\n",
      "(30802261230, Timestamp('2021-01-30 09:07:30'), 68, 17, 14, 37, 79, 62, 0.08)\n",
      "(30683048364, Timestamp('2021-01-28 08:51:00'), 72, 14, 19, 39, 45, 61, 0.0557413600891861)\n",
      "(30670554721, Timestamp('2021-01-27 08:43:00'), 71, 19, 14, 38, 71, 60, 0.072345390898483)\n",
      "(30653036985, Timestamp('2021-01-26 08:03:30'), 72, 14, 17, 41, 77, 61, 0.0827374872318692)\n",
      "(30637967946, Timestamp('2021-01-25 08:05:30'), 74, 17, 16, 41, 83, 62, 0.0953288846520495)\n",
      "(30624438882, Timestamp('2021-01-24 09:45:00'), 79, 18, 15, 46, 98, 61, 0.0766519823788546)\n",
      "(30610650639, Timestamp('2021-01-23 09:17:30'), 71, 16, 16, 39, 77, 60, 0.081008100810081)\n",
      "(30610650638, Timestamp('2021-01-22 08:49:00'), 83, 21, 16, 46, 81, 60, 0.088560885608856)\n",
      "(30610650637, Timestamp('2021-01-21 08:25:00'), 68, 16, 17, 35, 27, 61, 0.0803011292346298)\n",
      "(30610650636, Timestamp('2021-01-20 08:21:30'), 69, 15, 16, 38, 50, 61, 0.0848056537102473)\n",
      "(30551292745, Timestamp('2021-01-19 08:37:30'), 74, 18, 21, 35, 74, 63, 0.0769230769230769)\n",
      "(30546542907, Timestamp('2021-01-18 08:51:30'), 70, 17, 13, 40, 107, 60, 0.1092117758784425)\n",
      "(30546542906, Timestamp('2021-01-17 09:51:00'), 72, 17, 13, 42, 56, 61, 0.0782881002087682)\n",
      "(30546542905, Timestamp('2021-01-16 10:06:30'), 74, 17, 15, 42, 63, 61, 0.0645812310797174)\n",
      "(30546542904, Timestamp('2021-01-15 08:21:30'), 76, 16, 19, 41, 69, 61, 0.0783316378433367)\n",
      "(30546542903, Timestamp('2021-01-14 08:25:30'), 74, 17, 19, 38, 73, 60, 0.0696677384780278)\n",
      "(30546542902, Timestamp('2021-01-13 08:29:30'), 76, 17, 18, 41, 74, 61, 0.0779220779220779)\n",
      "(30546542901, Timestamp('2021-01-12 08:23:30'), 70, 16, 16, 38, 92, 60, 0.0906148867313915)\n",
      "(30350110298, Timestamp('2021-01-05 08:27:00'), 72, 17, 18, 37, 77, 60, 0.0944309927360774)\n",
      "(30336184215, Timestamp('2021-01-04 08:30:30'), 76, 16, 19, 41, 75, 61, 0.094188376753507)\n",
      "(30321058358, Timestamp('2021-01-03 09:35:30'), 78, 16, 17, 45, 47, 62, 0.1018119068162208)\n",
      "(30308541506, Timestamp('2021-01-02 10:22:00'), 80, 16, 18, 46, 86, 62, 0.0770609318996415)\n",
      "(30294326541, Timestamp('2021-01-01 10:35:30'), 78, 16, 23, 39, 52, 67, 0.0702524698133918)\n"
     ]
    }
   ],
   "source": [
    "for oid in range(0, df.shape[0]):\n",
    "    value_tuple = tuple(df.loc[oid, df.columns[col_number]] for col_number in range(0, df.shape[1]))\n",
    "    print(value_tuple)"
   ]
  },
  {
   "cell_type": "code",
   "execution_count": 161,
   "metadata": {},
   "outputs": [],
   "source": [
    "def add_data_to_sql_table(df: pd.DataFrame,\n",
    "                             database_name: str,\n",
    "                             user: str,\n",
    "                            table_name: str,\n",
    "                            ):\n",
    "    \n",
    "    columns_string = ', '.join(df.columns.tolist())\n",
    "    value_placeholder_string = \", \".join([\"%s\" for x in range(0, df.shape[1])])\n",
    "    insert_string = f\"\"\"INSERT INTO {table_name} ({columns_string}) VALUES ({value_placeholder_string})\"\"\"\n",
    "    try:\n",
    "        conn = psycopg2.connect(\n",
    "            host=os.getenv(\"postgresql_host\"),\n",
    "            database=database_name,\n",
    "            user=user,\n",
    "            password=os.getenv(\"postgresql_password\"),\n",
    "        )\n",
    "        cursor = conn.cursor()\n",
    "#         for oid in range(0, df.shape[0]):\n",
    "#             value_tuple = tuple(df.loc[oid, df.columns[col_number]] for col_number in range(0, df.shape[1]))\n",
    "#             _ = cursor.execute(insert_string, value_tuple)\n",
    "        for oid in range(0, df.shape[0]):\n",
    "            value_list = list(df.loc[oid, df.columns[col_number]] for col_number in range(0, df.shape[1]))\n",
    "            for idx, x in enumerate(value_list):\n",
    "                if idx == 1:\n",
    "                    value_list[idx] = str(x)\n",
    "                elif idx == 8:\n",
    "                    value_list[idx] = float(x)\n",
    "                else:\n",
    "                    value_list[idx] = int(x)\n",
    "            value_tuple = tuple(value_list)\n",
    "            _ = cursor.execute(insert_string, value_tuple)\n",
    "\n",
    "            _ = conn.commit()\n",
    "            _ = conn.close()\n",
    "        \n",
    "    except psycopg2.Error as e:\n",
    "        print(e)\n",
    "    \n",
    "    return insert_string"
   ]
  },
  {
   "cell_type": "code",
   "execution_count": null,
   "metadata": {},
   "outputs": [],
   "source": [
    "columns_string = ', '.join(df.columns.tolist())\n",
    "value_placeholder_string = \", \".join([\"%s\" for x in range(0, df.shape[1])])"
   ]
  },
  {
   "cell_type": "code",
   "execution_count": null,
   "metadata": {},
   "outputs": [],
   "source": [
    "insert_string = f\"\"\"INSERT INTO {table_name} ({columns_string}) VALUES ({value_placeholder_string})\"\"\", "
   ]
  },
  {
   "cell_type": "code",
   "execution_count": null,
   "metadata": {},
   "outputs": [],
   "source": [
    "c = conn.cursor()\n",
    "try: \n",
    "    for oid in range(0, df.shape[0]):\n",
    "#         print(oid)\n",
    "        c.execute(\"\"\"INSERT INTO suggested_energy_intake (nutrient, daily_requirements, units) VALUES (%s, %s, %s)\"\"\", \n",
    "        (df.loc[oid, \"Nutrient\"], df.loc[oid, \"Daily requirements\"], df.loc[oid, \"Units\"]))\n",
    "except:\n",
    "    print(\"Unable to upload data to table\")\n",
    "conn.commit() # <--- makes sure the change is shown in the database\n",
    "conn.close()\n",
    "c.close()"
   ]
  },
  {
   "cell_type": "markdown",
   "metadata": {},
   "source": [
    "### Creating a new table in the database"
   ]
  },
  {
   "cell_type": "code",
   "execution_count": null,
   "metadata": {},
   "outputs": [],
   "source": [
    "# c = conn.cursor()\n",
    "# try:\n",
    "#     # Create table\n",
    "#     c.execute(\"\"\"CREATE TABLE suggested_energy_intake (\n",
    "#             nutrient text,\n",
    "#             daily_requirements decimal,\n",
    "#             units text\n",
    "#             )\"\"\")\n",
    "# #     cur.execute(\"CREATE TABLE test (id serial PRIMARY KEY, num integer, data varchar);\")\n",
    "# except:\n",
    "#     print(\"I can't drop our test database!\")\n",
    "\n",
    "# conn.commit() # <--- makes sure the change is shown in the database\n",
    "# conn.close()\n",
    "# c.close()"
   ]
  },
  {
   "cell_type": "markdown",
   "metadata": {},
   "source": [
    "### Uploading data to an already created table"
   ]
  },
  {
   "cell_type": "code",
   "execution_count": null,
   "metadata": {},
   "outputs": [],
   "source": [
    "# c = conn.cursor()\n",
    "# try: \n",
    "#     for oid in range(0, df.shape[0]):\n",
    "# #         print(oid)\n",
    "#         c.execute(\"\"\"INSERT INTO suggested_energy_intake (nutrient, daily_requirements, units) VALUES (%s, %s, %s)\"\"\", \n",
    "#         (df.loc[oid, \"Nutrient\"], df.loc[oid, \"Daily requirements\"], df.loc[oid, \"Units\"]))\n",
    "# except:\n",
    "#     print(\"Unable to upload data to table\")\n",
    "# conn.commit() # <--- makes sure the change is shown in the database\n",
    "# conn.close()\n",
    "# c.close()"
   ]
  },
  {
   "cell_type": "code",
   "execution_count": null,
   "metadata": {},
   "outputs": [],
   "source": [
    "stop!"
   ]
  },
  {
   "cell_type": "markdown",
   "metadata": {},
   "source": [
    "### Local SQLite database connection - read in data"
   ]
  },
  {
   "cell_type": "code",
   "execution_count": null,
   "metadata": {},
   "outputs": [],
   "source": [
    "con = sqlite3.connect(\"energy_tracker.db\")\n",
    "df = pd.read_sql_query(\"SELECT * from suggested_energy_intake\", con)\n",
    "\n",
    "# Verify that result of SQL query is stored in the dataframe\n",
    "display(df.head(1))\n",
    "\n",
    "con.close()"
   ]
  },
  {
   "cell_type": "code",
   "execution_count": null,
   "metadata": {},
   "outputs": [],
   "source": [
    "df.columns.tolist()"
   ]
  }
 ],
 "metadata": {
  "kernelspec": {
   "display_name": "general",
   "language": "python",
   "name": "general"
  },
  "language_info": {
   "codemirror_mode": {
    "name": "ipython",
    "version": 3
   },
   "file_extension": ".py",
   "mimetype": "text/x-python",
   "name": "python",
   "nbconvert_exporter": "python",
   "pygments_lexer": "ipython3",
   "version": "3.9.2"
  }
 },
 "nbformat": 4,
 "nbformat_minor": 4
}
